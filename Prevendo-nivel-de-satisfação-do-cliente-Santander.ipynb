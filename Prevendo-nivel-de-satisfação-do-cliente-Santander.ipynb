{
 "cells": [
  {
   "cell_type": "markdown",
   "metadata": {},
   "source": [
    "## Mini Projeto - Data Science Academy\n",
    "\n",
    "#### André Campos da Silva\n",
    "#### 05 de Janeiro, 2021\n",
    "\n",
    "\n"
   ]
  },
  {
   "cell_type": "markdown",
   "metadata": {},
   "source": [
    "### Projeto  -  Prevendo nivel de satisfação do cliente Santander \n",
    "\n",
    "Construir um modelo que permita fazer previsões se um cliente ira ou não cancelar os serviços com o banco, baseados em dados históricos.\n",
    "\n",
    "Dataset: Santander Customer Satisfaction https://www.kaggle.com/c/santander-customer-satisfaction\n",
    "\n",
    "Descrição dos dados:\n",
    "\n",
    "Conjunto de dados anônimo contendo um grande número de variáveis numéricas. A coluna \"TARGET\" é a variável a ser prevista. É igual a 1 para clientes insatisfeitos e 0 para clientes satisfeitos.\n",
    "\n",
    "A tarefa é prever a probabilidade de cada cliente no conjunto de testes ser um cliente insatisfeito."
   ]
  },
  {
   "cell_type": "markdown",
   "metadata": {},
   "source": [
    "## Carregando pacotes "
   ]
  },
  {
   "cell_type": "code",
   "execution_count": 1,
   "metadata": {
    "scrolled": true
   },
   "outputs": [],
   "source": [
    "# Pacotes usados no projeto\n",
    "import warnings\n",
    "warnings.filterwarnings('ignore')\n",
    "import numpy as np\n",
    "import pandas as pd\n",
    "import matplotlib.pyplot as plt\n",
    "%matplotlib inline\n",
    "from imblearn.over_sampling import SMOTE\n",
    "from sklearn.preprocessing import MinMaxScaler,Normalizer,StandardScaler\n",
    "from sklearn.decomposition import PCA\n",
    "from sklearn.feature_selection import SelectKBest,chi2,RFE,mutual_info_classif,f_classif\n",
    "from sklearn.model_selection import train_test_split\n",
    "from sklearn.metrics import accuracy_score, confusion_matrix,classification_report\n",
    "from sklearn.linear_model import LogisticRegression\n",
    "from sklearn.neighbors import KNeighborsClassifier\n",
    "from sklearn.naive_bayes import GaussianNB\n",
    "from sklearn.tree import DecisionTreeClassifier\n",
    "from sklearn.ensemble import BaggingClassifier,VotingClassifier,RandomForestClassifier,ExtraTreesClassifier,GradientBoostingClassifier,StackingClassifier\n",
    "from sklearn.neural_network import MLPClassifier\n"
   ]
  },
  {
   "cell_type": "markdown",
   "metadata": {},
   "source": [
    "## Carregando os Dados "
   ]
  },
  {
   "cell_type": "code",
   "execution_count": 2,
   "metadata": {
    "scrolled": true
   },
   "outputs": [],
   "source": [
    "# Carrego os dados de treino e teste. \n",
    "df_train = pd.read_csv('Dados/train.csv')\n",
    "df_test = pd.read_csv('Dados/test.csv')"
   ]
  },
  {
   "cell_type": "code",
   "execution_count": 3,
   "metadata": {
    "scrolled": true
   },
   "outputs": [
    {
     "data": {
      "text/html": [
       "<div>\n",
       "<style scoped>\n",
       "    .dataframe tbody tr th:only-of-type {\n",
       "        vertical-align: middle;\n",
       "    }\n",
       "\n",
       "    .dataframe tbody tr th {\n",
       "        vertical-align: top;\n",
       "    }\n",
       "\n",
       "    .dataframe thead th {\n",
       "        text-align: right;\n",
       "    }\n",
       "</style>\n",
       "<table border=\"1\" class=\"dataframe\">\n",
       "  <thead>\n",
       "    <tr style=\"text-align: right;\">\n",
       "      <th></th>\n",
       "      <th>ID</th>\n",
       "      <th>var3</th>\n",
       "      <th>var15</th>\n",
       "      <th>imp_ent_var16_ult1</th>\n",
       "      <th>imp_op_var39_comer_ult1</th>\n",
       "      <th>imp_op_var39_comer_ult3</th>\n",
       "      <th>imp_op_var40_comer_ult1</th>\n",
       "      <th>imp_op_var40_comer_ult3</th>\n",
       "      <th>imp_op_var40_efect_ult1</th>\n",
       "      <th>imp_op_var40_efect_ult3</th>\n",
       "      <th>...</th>\n",
       "      <th>saldo_medio_var33_hace2</th>\n",
       "      <th>saldo_medio_var33_hace3</th>\n",
       "      <th>saldo_medio_var33_ult1</th>\n",
       "      <th>saldo_medio_var33_ult3</th>\n",
       "      <th>saldo_medio_var44_hace2</th>\n",
       "      <th>saldo_medio_var44_hace3</th>\n",
       "      <th>saldo_medio_var44_ult1</th>\n",
       "      <th>saldo_medio_var44_ult3</th>\n",
       "      <th>var38</th>\n",
       "      <th>TARGET</th>\n",
       "    </tr>\n",
       "  </thead>\n",
       "  <tbody>\n",
       "    <tr>\n",
       "      <th>0</th>\n",
       "      <td>1</td>\n",
       "      <td>2</td>\n",
       "      <td>23</td>\n",
       "      <td>0.0</td>\n",
       "      <td>0.0</td>\n",
       "      <td>0.0</td>\n",
       "      <td>0.0</td>\n",
       "      <td>0.0</td>\n",
       "      <td>0.0</td>\n",
       "      <td>0.0</td>\n",
       "      <td>...</td>\n",
       "      <td>0.0</td>\n",
       "      <td>0.0</td>\n",
       "      <td>0.0</td>\n",
       "      <td>0.0</td>\n",
       "      <td>0.0</td>\n",
       "      <td>0.0</td>\n",
       "      <td>0.0</td>\n",
       "      <td>0.0</td>\n",
       "      <td>39205.170000</td>\n",
       "      <td>0</td>\n",
       "    </tr>\n",
       "    <tr>\n",
       "      <th>1</th>\n",
       "      <td>3</td>\n",
       "      <td>2</td>\n",
       "      <td>34</td>\n",
       "      <td>0.0</td>\n",
       "      <td>0.0</td>\n",
       "      <td>0.0</td>\n",
       "      <td>0.0</td>\n",
       "      <td>0.0</td>\n",
       "      <td>0.0</td>\n",
       "      <td>0.0</td>\n",
       "      <td>...</td>\n",
       "      <td>0.0</td>\n",
       "      <td>0.0</td>\n",
       "      <td>0.0</td>\n",
       "      <td>0.0</td>\n",
       "      <td>0.0</td>\n",
       "      <td>0.0</td>\n",
       "      <td>0.0</td>\n",
       "      <td>0.0</td>\n",
       "      <td>49278.030000</td>\n",
       "      <td>0</td>\n",
       "    </tr>\n",
       "    <tr>\n",
       "      <th>2</th>\n",
       "      <td>4</td>\n",
       "      <td>2</td>\n",
       "      <td>23</td>\n",
       "      <td>0.0</td>\n",
       "      <td>0.0</td>\n",
       "      <td>0.0</td>\n",
       "      <td>0.0</td>\n",
       "      <td>0.0</td>\n",
       "      <td>0.0</td>\n",
       "      <td>0.0</td>\n",
       "      <td>...</td>\n",
       "      <td>0.0</td>\n",
       "      <td>0.0</td>\n",
       "      <td>0.0</td>\n",
       "      <td>0.0</td>\n",
       "      <td>0.0</td>\n",
       "      <td>0.0</td>\n",
       "      <td>0.0</td>\n",
       "      <td>0.0</td>\n",
       "      <td>67333.770000</td>\n",
       "      <td>0</td>\n",
       "    </tr>\n",
       "    <tr>\n",
       "      <th>3</th>\n",
       "      <td>8</td>\n",
       "      <td>2</td>\n",
       "      <td>37</td>\n",
       "      <td>0.0</td>\n",
       "      <td>195.0</td>\n",
       "      <td>195.0</td>\n",
       "      <td>0.0</td>\n",
       "      <td>0.0</td>\n",
       "      <td>0.0</td>\n",
       "      <td>0.0</td>\n",
       "      <td>...</td>\n",
       "      <td>0.0</td>\n",
       "      <td>0.0</td>\n",
       "      <td>0.0</td>\n",
       "      <td>0.0</td>\n",
       "      <td>0.0</td>\n",
       "      <td>0.0</td>\n",
       "      <td>0.0</td>\n",
       "      <td>0.0</td>\n",
       "      <td>64007.970000</td>\n",
       "      <td>0</td>\n",
       "    </tr>\n",
       "    <tr>\n",
       "      <th>4</th>\n",
       "      <td>10</td>\n",
       "      <td>2</td>\n",
       "      <td>39</td>\n",
       "      <td>0.0</td>\n",
       "      <td>0.0</td>\n",
       "      <td>0.0</td>\n",
       "      <td>0.0</td>\n",
       "      <td>0.0</td>\n",
       "      <td>0.0</td>\n",
       "      <td>0.0</td>\n",
       "      <td>...</td>\n",
       "      <td>0.0</td>\n",
       "      <td>0.0</td>\n",
       "      <td>0.0</td>\n",
       "      <td>0.0</td>\n",
       "      <td>0.0</td>\n",
       "      <td>0.0</td>\n",
       "      <td>0.0</td>\n",
       "      <td>0.0</td>\n",
       "      <td>117310.979016</td>\n",
       "      <td>0</td>\n",
       "    </tr>\n",
       "  </tbody>\n",
       "</table>\n",
       "<p>5 rows × 371 columns</p>\n",
       "</div>"
      ],
      "text/plain": [
       "   ID  var3  var15  imp_ent_var16_ult1  imp_op_var39_comer_ult1  \\\n",
       "0   1     2     23                 0.0                      0.0   \n",
       "1   3     2     34                 0.0                      0.0   \n",
       "2   4     2     23                 0.0                      0.0   \n",
       "3   8     2     37                 0.0                    195.0   \n",
       "4  10     2     39                 0.0                      0.0   \n",
       "\n",
       "   imp_op_var39_comer_ult3  imp_op_var40_comer_ult1  imp_op_var40_comer_ult3  \\\n",
       "0                      0.0                      0.0                      0.0   \n",
       "1                      0.0                      0.0                      0.0   \n",
       "2                      0.0                      0.0                      0.0   \n",
       "3                    195.0                      0.0                      0.0   \n",
       "4                      0.0                      0.0                      0.0   \n",
       "\n",
       "   imp_op_var40_efect_ult1  imp_op_var40_efect_ult3  ...  \\\n",
       "0                      0.0                      0.0  ...   \n",
       "1                      0.0                      0.0  ...   \n",
       "2                      0.0                      0.0  ...   \n",
       "3                      0.0                      0.0  ...   \n",
       "4                      0.0                      0.0  ...   \n",
       "\n",
       "   saldo_medio_var33_hace2  saldo_medio_var33_hace3  saldo_medio_var33_ult1  \\\n",
       "0                      0.0                      0.0                     0.0   \n",
       "1                      0.0                      0.0                     0.0   \n",
       "2                      0.0                      0.0                     0.0   \n",
       "3                      0.0                      0.0                     0.0   \n",
       "4                      0.0                      0.0                     0.0   \n",
       "\n",
       "   saldo_medio_var33_ult3  saldo_medio_var44_hace2  saldo_medio_var44_hace3  \\\n",
       "0                     0.0                      0.0                      0.0   \n",
       "1                     0.0                      0.0                      0.0   \n",
       "2                     0.0                      0.0                      0.0   \n",
       "3                     0.0                      0.0                      0.0   \n",
       "4                     0.0                      0.0                      0.0   \n",
       "\n",
       "   saldo_medio_var44_ult1  saldo_medio_var44_ult3          var38  TARGET  \n",
       "0                     0.0                     0.0   39205.170000       0  \n",
       "1                     0.0                     0.0   49278.030000       0  \n",
       "2                     0.0                     0.0   67333.770000       0  \n",
       "3                     0.0                     0.0   64007.970000       0  \n",
       "4                     0.0                     0.0  117310.979016       0  \n",
       "\n",
       "[5 rows x 371 columns]"
      ]
     },
     "execution_count": 3,
     "metadata": {},
     "output_type": "execute_result"
    }
   ],
   "source": [
    "df_train.head()"
   ]
  },
  {
   "cell_type": "code",
   "execution_count": 4,
   "metadata": {
    "scrolled": true
   },
   "outputs": [
    {
     "data": {
      "text/html": [
       "<div>\n",
       "<style scoped>\n",
       "    .dataframe tbody tr th:only-of-type {\n",
       "        vertical-align: middle;\n",
       "    }\n",
       "\n",
       "    .dataframe tbody tr th {\n",
       "        vertical-align: top;\n",
       "    }\n",
       "\n",
       "    .dataframe thead th {\n",
       "        text-align: right;\n",
       "    }\n",
       "</style>\n",
       "<table border=\"1\" class=\"dataframe\">\n",
       "  <thead>\n",
       "    <tr style=\"text-align: right;\">\n",
       "      <th></th>\n",
       "      <th>ID</th>\n",
       "      <th>var3</th>\n",
       "      <th>var15</th>\n",
       "      <th>imp_ent_var16_ult1</th>\n",
       "      <th>imp_op_var39_comer_ult1</th>\n",
       "      <th>imp_op_var39_comer_ult3</th>\n",
       "      <th>imp_op_var40_comer_ult1</th>\n",
       "      <th>imp_op_var40_comer_ult3</th>\n",
       "      <th>imp_op_var40_efect_ult1</th>\n",
       "      <th>imp_op_var40_efect_ult3</th>\n",
       "      <th>...</th>\n",
       "      <th>saldo_medio_var29_ult3</th>\n",
       "      <th>saldo_medio_var33_hace2</th>\n",
       "      <th>saldo_medio_var33_hace3</th>\n",
       "      <th>saldo_medio_var33_ult1</th>\n",
       "      <th>saldo_medio_var33_ult3</th>\n",
       "      <th>saldo_medio_var44_hace2</th>\n",
       "      <th>saldo_medio_var44_hace3</th>\n",
       "      <th>saldo_medio_var44_ult1</th>\n",
       "      <th>saldo_medio_var44_ult3</th>\n",
       "      <th>var38</th>\n",
       "    </tr>\n",
       "  </thead>\n",
       "  <tbody>\n",
       "    <tr>\n",
       "      <th>0</th>\n",
       "      <td>2</td>\n",
       "      <td>2</td>\n",
       "      <td>32</td>\n",
       "      <td>0.0</td>\n",
       "      <td>0.0</td>\n",
       "      <td>0.0</td>\n",
       "      <td>0.0</td>\n",
       "      <td>0.0</td>\n",
       "      <td>0.0</td>\n",
       "      <td>0.0</td>\n",
       "      <td>...</td>\n",
       "      <td>0.0</td>\n",
       "      <td>0.0</td>\n",
       "      <td>0.0</td>\n",
       "      <td>0.0</td>\n",
       "      <td>0.0</td>\n",
       "      <td>0.0</td>\n",
       "      <td>0.0</td>\n",
       "      <td>0.0</td>\n",
       "      <td>0.0</td>\n",
       "      <td>40532.10</td>\n",
       "    </tr>\n",
       "    <tr>\n",
       "      <th>1</th>\n",
       "      <td>5</td>\n",
       "      <td>2</td>\n",
       "      <td>35</td>\n",
       "      <td>0.0</td>\n",
       "      <td>0.0</td>\n",
       "      <td>0.0</td>\n",
       "      <td>0.0</td>\n",
       "      <td>0.0</td>\n",
       "      <td>0.0</td>\n",
       "      <td>0.0</td>\n",
       "      <td>...</td>\n",
       "      <td>0.0</td>\n",
       "      <td>0.0</td>\n",
       "      <td>0.0</td>\n",
       "      <td>0.0</td>\n",
       "      <td>0.0</td>\n",
       "      <td>0.0</td>\n",
       "      <td>0.0</td>\n",
       "      <td>0.0</td>\n",
       "      <td>0.0</td>\n",
       "      <td>45486.72</td>\n",
       "    </tr>\n",
       "    <tr>\n",
       "      <th>2</th>\n",
       "      <td>6</td>\n",
       "      <td>2</td>\n",
       "      <td>23</td>\n",
       "      <td>0.0</td>\n",
       "      <td>0.0</td>\n",
       "      <td>0.0</td>\n",
       "      <td>0.0</td>\n",
       "      <td>0.0</td>\n",
       "      <td>0.0</td>\n",
       "      <td>0.0</td>\n",
       "      <td>...</td>\n",
       "      <td>0.0</td>\n",
       "      <td>0.0</td>\n",
       "      <td>0.0</td>\n",
       "      <td>0.0</td>\n",
       "      <td>0.0</td>\n",
       "      <td>0.0</td>\n",
       "      <td>0.0</td>\n",
       "      <td>0.0</td>\n",
       "      <td>0.0</td>\n",
       "      <td>46993.95</td>\n",
       "    </tr>\n",
       "    <tr>\n",
       "      <th>3</th>\n",
       "      <td>7</td>\n",
       "      <td>2</td>\n",
       "      <td>24</td>\n",
       "      <td>0.0</td>\n",
       "      <td>0.0</td>\n",
       "      <td>0.0</td>\n",
       "      <td>0.0</td>\n",
       "      <td>0.0</td>\n",
       "      <td>0.0</td>\n",
       "      <td>0.0</td>\n",
       "      <td>...</td>\n",
       "      <td>0.0</td>\n",
       "      <td>0.0</td>\n",
       "      <td>0.0</td>\n",
       "      <td>0.0</td>\n",
       "      <td>0.0</td>\n",
       "      <td>0.0</td>\n",
       "      <td>0.0</td>\n",
       "      <td>0.0</td>\n",
       "      <td>0.0</td>\n",
       "      <td>187898.61</td>\n",
       "    </tr>\n",
       "    <tr>\n",
       "      <th>4</th>\n",
       "      <td>9</td>\n",
       "      <td>2</td>\n",
       "      <td>23</td>\n",
       "      <td>0.0</td>\n",
       "      <td>0.0</td>\n",
       "      <td>0.0</td>\n",
       "      <td>0.0</td>\n",
       "      <td>0.0</td>\n",
       "      <td>0.0</td>\n",
       "      <td>0.0</td>\n",
       "      <td>...</td>\n",
       "      <td>0.0</td>\n",
       "      <td>0.0</td>\n",
       "      <td>0.0</td>\n",
       "      <td>0.0</td>\n",
       "      <td>0.0</td>\n",
       "      <td>0.0</td>\n",
       "      <td>0.0</td>\n",
       "      <td>0.0</td>\n",
       "      <td>0.0</td>\n",
       "      <td>73649.73</td>\n",
       "    </tr>\n",
       "  </tbody>\n",
       "</table>\n",
       "<p>5 rows × 370 columns</p>\n",
       "</div>"
      ],
      "text/plain": [
       "   ID  var3  var15  imp_ent_var16_ult1  imp_op_var39_comer_ult1  \\\n",
       "0   2     2     32                 0.0                      0.0   \n",
       "1   5     2     35                 0.0                      0.0   \n",
       "2   6     2     23                 0.0                      0.0   \n",
       "3   7     2     24                 0.0                      0.0   \n",
       "4   9     2     23                 0.0                      0.0   \n",
       "\n",
       "   imp_op_var39_comer_ult3  imp_op_var40_comer_ult1  imp_op_var40_comer_ult3  \\\n",
       "0                      0.0                      0.0                      0.0   \n",
       "1                      0.0                      0.0                      0.0   \n",
       "2                      0.0                      0.0                      0.0   \n",
       "3                      0.0                      0.0                      0.0   \n",
       "4                      0.0                      0.0                      0.0   \n",
       "\n",
       "   imp_op_var40_efect_ult1  imp_op_var40_efect_ult3  ...  \\\n",
       "0                      0.0                      0.0  ...   \n",
       "1                      0.0                      0.0  ...   \n",
       "2                      0.0                      0.0  ...   \n",
       "3                      0.0                      0.0  ...   \n",
       "4                      0.0                      0.0  ...   \n",
       "\n",
       "   saldo_medio_var29_ult3  saldo_medio_var33_hace2  saldo_medio_var33_hace3  \\\n",
       "0                     0.0                      0.0                      0.0   \n",
       "1                     0.0                      0.0                      0.0   \n",
       "2                     0.0                      0.0                      0.0   \n",
       "3                     0.0                      0.0                      0.0   \n",
       "4                     0.0                      0.0                      0.0   \n",
       "\n",
       "   saldo_medio_var33_ult1  saldo_medio_var33_ult3  saldo_medio_var44_hace2  \\\n",
       "0                     0.0                     0.0                      0.0   \n",
       "1                     0.0                     0.0                      0.0   \n",
       "2                     0.0                     0.0                      0.0   \n",
       "3                     0.0                     0.0                      0.0   \n",
       "4                     0.0                     0.0                      0.0   \n",
       "\n",
       "   saldo_medio_var44_hace3  saldo_medio_var44_ult1  saldo_medio_var44_ult3  \\\n",
       "0                      0.0                     0.0                     0.0   \n",
       "1                      0.0                     0.0                     0.0   \n",
       "2                      0.0                     0.0                     0.0   \n",
       "3                      0.0                     0.0                     0.0   \n",
       "4                      0.0                     0.0                     0.0   \n",
       "\n",
       "       var38  \n",
       "0   40532.10  \n",
       "1   45486.72  \n",
       "2   46993.95  \n",
       "3  187898.61  \n",
       "4   73649.73  \n",
       "\n",
       "[5 rows x 370 columns]"
      ]
     },
     "execution_count": 4,
     "metadata": {},
     "output_type": "execute_result"
    }
   ],
   "source": [
    "df_test.head()"
   ]
  },
  {
   "cell_type": "markdown",
   "metadata": {},
   "source": [
    "## Análise Exploratória de Dados"
   ]
  },
  {
   "cell_type": "code",
   "execution_count": 5,
   "metadata": {
    "scrolled": true
   },
   "outputs": [
    {
     "data": {
      "text/plain": [
       "int64      260\n",
       "float64    111\n",
       "dtype: int64"
      ]
     },
     "execution_count": 5,
     "metadata": {},
     "output_type": "execute_result"
    }
   ],
   "source": [
    "# Tipo dos dados das variáveis\n",
    "df_train.dtypes.value_counts()"
   ]
  },
  {
   "cell_type": "code",
   "execution_count": 7,
   "metadata": {
    "scrolled": true
   },
   "outputs": [
    {
     "data": {
      "text/html": [
       "<div>\n",
       "<style scoped>\n",
       "    .dataframe tbody tr th:only-of-type {\n",
       "        vertical-align: middle;\n",
       "    }\n",
       "\n",
       "    .dataframe tbody tr th {\n",
       "        vertical-align: top;\n",
       "    }\n",
       "\n",
       "    .dataframe thead th {\n",
       "        text-align: right;\n",
       "    }\n",
       "</style>\n",
       "<table border=\"1\" class=\"dataframe\">\n",
       "  <thead>\n",
       "    <tr style=\"text-align: right;\">\n",
       "      <th></th>\n",
       "      <th>ID</th>\n",
       "      <th>var3</th>\n",
       "      <th>var15</th>\n",
       "      <th>imp_ent_var16_ult1</th>\n",
       "      <th>imp_op_var39_comer_ult1</th>\n",
       "      <th>imp_op_var39_comer_ult3</th>\n",
       "      <th>imp_op_var40_comer_ult1</th>\n",
       "      <th>imp_op_var40_comer_ult3</th>\n",
       "      <th>imp_op_var40_efect_ult1</th>\n",
       "      <th>imp_op_var40_efect_ult3</th>\n",
       "      <th>...</th>\n",
       "      <th>saldo_medio_var33_hace2</th>\n",
       "      <th>saldo_medio_var33_hace3</th>\n",
       "      <th>saldo_medio_var33_ult1</th>\n",
       "      <th>saldo_medio_var33_ult3</th>\n",
       "      <th>saldo_medio_var44_hace2</th>\n",
       "      <th>saldo_medio_var44_hace3</th>\n",
       "      <th>saldo_medio_var44_ult1</th>\n",
       "      <th>saldo_medio_var44_ult3</th>\n",
       "      <th>var38</th>\n",
       "      <th>TARGET</th>\n",
       "    </tr>\n",
       "  </thead>\n",
       "  <tbody>\n",
       "    <tr>\n",
       "      <th>count</th>\n",
       "      <td>76020.000000</td>\n",
       "      <td>76020.000000</td>\n",
       "      <td>76020.000000</td>\n",
       "      <td>76020.000000</td>\n",
       "      <td>76020.000000</td>\n",
       "      <td>76020.000000</td>\n",
       "      <td>76020.000000</td>\n",
       "      <td>76020.000000</td>\n",
       "      <td>76020.000000</td>\n",
       "      <td>76020.000000</td>\n",
       "      <td>...</td>\n",
       "      <td>76020.000000</td>\n",
       "      <td>76020.000000</td>\n",
       "      <td>76020.000000</td>\n",
       "      <td>76020.000000</td>\n",
       "      <td>76020.000000</td>\n",
       "      <td>76020.000000</td>\n",
       "      <td>76020.000000</td>\n",
       "      <td>76020.000000</td>\n",
       "      <td>7.602000e+04</td>\n",
       "      <td>76020.000000</td>\n",
       "    </tr>\n",
       "    <tr>\n",
       "      <th>mean</th>\n",
       "      <td>75964.050723</td>\n",
       "      <td>-1523.199277</td>\n",
       "      <td>33.212865</td>\n",
       "      <td>86.208265</td>\n",
       "      <td>72.363067</td>\n",
       "      <td>119.529632</td>\n",
       "      <td>3.559130</td>\n",
       "      <td>6.472698</td>\n",
       "      <td>0.412946</td>\n",
       "      <td>0.567352</td>\n",
       "      <td>...</td>\n",
       "      <td>7.935824</td>\n",
       "      <td>1.365146</td>\n",
       "      <td>12.215580</td>\n",
       "      <td>8.784074</td>\n",
       "      <td>31.505324</td>\n",
       "      <td>1.858575</td>\n",
       "      <td>76.026165</td>\n",
       "      <td>56.614351</td>\n",
       "      <td>1.172358e+05</td>\n",
       "      <td>0.039569</td>\n",
       "    </tr>\n",
       "    <tr>\n",
       "      <th>std</th>\n",
       "      <td>43781.947379</td>\n",
       "      <td>39033.462364</td>\n",
       "      <td>12.956486</td>\n",
       "      <td>1614.757313</td>\n",
       "      <td>339.315831</td>\n",
       "      <td>546.266294</td>\n",
       "      <td>93.155749</td>\n",
       "      <td>153.737066</td>\n",
       "      <td>30.604864</td>\n",
       "      <td>36.513513</td>\n",
       "      <td>...</td>\n",
       "      <td>455.887218</td>\n",
       "      <td>113.959637</td>\n",
       "      <td>783.207399</td>\n",
       "      <td>538.439211</td>\n",
       "      <td>2013.125393</td>\n",
       "      <td>147.786584</td>\n",
       "      <td>4040.337842</td>\n",
       "      <td>2852.579397</td>\n",
       "      <td>1.826646e+05</td>\n",
       "      <td>0.194945</td>\n",
       "    </tr>\n",
       "    <tr>\n",
       "      <th>min</th>\n",
       "      <td>1.000000</td>\n",
       "      <td>-999999.000000</td>\n",
       "      <td>5.000000</td>\n",
       "      <td>0.000000</td>\n",
       "      <td>0.000000</td>\n",
       "      <td>0.000000</td>\n",
       "      <td>0.000000</td>\n",
       "      <td>0.000000</td>\n",
       "      <td>0.000000</td>\n",
       "      <td>0.000000</td>\n",
       "      <td>...</td>\n",
       "      <td>0.000000</td>\n",
       "      <td>0.000000</td>\n",
       "      <td>0.000000</td>\n",
       "      <td>0.000000</td>\n",
       "      <td>0.000000</td>\n",
       "      <td>0.000000</td>\n",
       "      <td>0.000000</td>\n",
       "      <td>0.000000</td>\n",
       "      <td>5.163750e+03</td>\n",
       "      <td>0.000000</td>\n",
       "    </tr>\n",
       "    <tr>\n",
       "      <th>25%</th>\n",
       "      <td>38104.750000</td>\n",
       "      <td>2.000000</td>\n",
       "      <td>23.000000</td>\n",
       "      <td>0.000000</td>\n",
       "      <td>0.000000</td>\n",
       "      <td>0.000000</td>\n",
       "      <td>0.000000</td>\n",
       "      <td>0.000000</td>\n",
       "      <td>0.000000</td>\n",
       "      <td>0.000000</td>\n",
       "      <td>...</td>\n",
       "      <td>0.000000</td>\n",
       "      <td>0.000000</td>\n",
       "      <td>0.000000</td>\n",
       "      <td>0.000000</td>\n",
       "      <td>0.000000</td>\n",
       "      <td>0.000000</td>\n",
       "      <td>0.000000</td>\n",
       "      <td>0.000000</td>\n",
       "      <td>6.787061e+04</td>\n",
       "      <td>0.000000</td>\n",
       "    </tr>\n",
       "    <tr>\n",
       "      <th>50%</th>\n",
       "      <td>76043.000000</td>\n",
       "      <td>2.000000</td>\n",
       "      <td>28.000000</td>\n",
       "      <td>0.000000</td>\n",
       "      <td>0.000000</td>\n",
       "      <td>0.000000</td>\n",
       "      <td>0.000000</td>\n",
       "      <td>0.000000</td>\n",
       "      <td>0.000000</td>\n",
       "      <td>0.000000</td>\n",
       "      <td>...</td>\n",
       "      <td>0.000000</td>\n",
       "      <td>0.000000</td>\n",
       "      <td>0.000000</td>\n",
       "      <td>0.000000</td>\n",
       "      <td>0.000000</td>\n",
       "      <td>0.000000</td>\n",
       "      <td>0.000000</td>\n",
       "      <td>0.000000</td>\n",
       "      <td>1.064092e+05</td>\n",
       "      <td>0.000000</td>\n",
       "    </tr>\n",
       "    <tr>\n",
       "      <th>75%</th>\n",
       "      <td>113748.750000</td>\n",
       "      <td>2.000000</td>\n",
       "      <td>40.000000</td>\n",
       "      <td>0.000000</td>\n",
       "      <td>0.000000</td>\n",
       "      <td>0.000000</td>\n",
       "      <td>0.000000</td>\n",
       "      <td>0.000000</td>\n",
       "      <td>0.000000</td>\n",
       "      <td>0.000000</td>\n",
       "      <td>...</td>\n",
       "      <td>0.000000</td>\n",
       "      <td>0.000000</td>\n",
       "      <td>0.000000</td>\n",
       "      <td>0.000000</td>\n",
       "      <td>0.000000</td>\n",
       "      <td>0.000000</td>\n",
       "      <td>0.000000</td>\n",
       "      <td>0.000000</td>\n",
       "      <td>1.187563e+05</td>\n",
       "      <td>0.000000</td>\n",
       "    </tr>\n",
       "    <tr>\n",
       "      <th>max</th>\n",
       "      <td>151838.000000</td>\n",
       "      <td>238.000000</td>\n",
       "      <td>105.000000</td>\n",
       "      <td>210000.000000</td>\n",
       "      <td>12888.030000</td>\n",
       "      <td>21024.810000</td>\n",
       "      <td>8237.820000</td>\n",
       "      <td>11073.570000</td>\n",
       "      <td>6600.000000</td>\n",
       "      <td>6600.000000</td>\n",
       "      <td>...</td>\n",
       "      <td>50003.880000</td>\n",
       "      <td>20385.720000</td>\n",
       "      <td>138831.630000</td>\n",
       "      <td>91778.730000</td>\n",
       "      <td>438329.220000</td>\n",
       "      <td>24650.010000</td>\n",
       "      <td>681462.900000</td>\n",
       "      <td>397884.300000</td>\n",
       "      <td>2.203474e+07</td>\n",
       "      <td>1.000000</td>\n",
       "    </tr>\n",
       "  </tbody>\n",
       "</table>\n",
       "<p>8 rows × 371 columns</p>\n",
       "</div>"
      ],
      "text/plain": [
       "                  ID           var3         var15  imp_ent_var16_ult1  \\\n",
       "count   76020.000000   76020.000000  76020.000000        76020.000000   \n",
       "mean    75964.050723   -1523.199277     33.212865           86.208265   \n",
       "std     43781.947379   39033.462364     12.956486         1614.757313   \n",
       "min         1.000000 -999999.000000      5.000000            0.000000   \n",
       "25%     38104.750000       2.000000     23.000000            0.000000   \n",
       "50%     76043.000000       2.000000     28.000000            0.000000   \n",
       "75%    113748.750000       2.000000     40.000000            0.000000   \n",
       "max    151838.000000     238.000000    105.000000       210000.000000   \n",
       "\n",
       "       imp_op_var39_comer_ult1  imp_op_var39_comer_ult3  \\\n",
       "count             76020.000000             76020.000000   \n",
       "mean                 72.363067               119.529632   \n",
       "std                 339.315831               546.266294   \n",
       "min                   0.000000                 0.000000   \n",
       "25%                   0.000000                 0.000000   \n",
       "50%                   0.000000                 0.000000   \n",
       "75%                   0.000000                 0.000000   \n",
       "max               12888.030000             21024.810000   \n",
       "\n",
       "       imp_op_var40_comer_ult1  imp_op_var40_comer_ult3  \\\n",
       "count             76020.000000             76020.000000   \n",
       "mean                  3.559130                 6.472698   \n",
       "std                  93.155749               153.737066   \n",
       "min                   0.000000                 0.000000   \n",
       "25%                   0.000000                 0.000000   \n",
       "50%                   0.000000                 0.000000   \n",
       "75%                   0.000000                 0.000000   \n",
       "max                8237.820000             11073.570000   \n",
       "\n",
       "       imp_op_var40_efect_ult1  imp_op_var40_efect_ult3  ...  \\\n",
       "count             76020.000000             76020.000000  ...   \n",
       "mean                  0.412946                 0.567352  ...   \n",
       "std                  30.604864                36.513513  ...   \n",
       "min                   0.000000                 0.000000  ...   \n",
       "25%                   0.000000                 0.000000  ...   \n",
       "50%                   0.000000                 0.000000  ...   \n",
       "75%                   0.000000                 0.000000  ...   \n",
       "max                6600.000000              6600.000000  ...   \n",
       "\n",
       "       saldo_medio_var33_hace2  saldo_medio_var33_hace3  \\\n",
       "count             76020.000000             76020.000000   \n",
       "mean                  7.935824                 1.365146   \n",
       "std                 455.887218               113.959637   \n",
       "min                   0.000000                 0.000000   \n",
       "25%                   0.000000                 0.000000   \n",
       "50%                   0.000000                 0.000000   \n",
       "75%                   0.000000                 0.000000   \n",
       "max               50003.880000             20385.720000   \n",
       "\n",
       "       saldo_medio_var33_ult1  saldo_medio_var33_ult3  \\\n",
       "count            76020.000000            76020.000000   \n",
       "mean                12.215580                8.784074   \n",
       "std                783.207399              538.439211   \n",
       "min                  0.000000                0.000000   \n",
       "25%                  0.000000                0.000000   \n",
       "50%                  0.000000                0.000000   \n",
       "75%                  0.000000                0.000000   \n",
       "max             138831.630000            91778.730000   \n",
       "\n",
       "       saldo_medio_var44_hace2  saldo_medio_var44_hace3  \\\n",
       "count             76020.000000             76020.000000   \n",
       "mean                 31.505324                 1.858575   \n",
       "std                2013.125393               147.786584   \n",
       "min                   0.000000                 0.000000   \n",
       "25%                   0.000000                 0.000000   \n",
       "50%                   0.000000                 0.000000   \n",
       "75%                   0.000000                 0.000000   \n",
       "max              438329.220000             24650.010000   \n",
       "\n",
       "       saldo_medio_var44_ult1  saldo_medio_var44_ult3         var38  \\\n",
       "count            76020.000000            76020.000000  7.602000e+04   \n",
       "mean                76.026165               56.614351  1.172358e+05   \n",
       "std               4040.337842             2852.579397  1.826646e+05   \n",
       "min                  0.000000                0.000000  5.163750e+03   \n",
       "25%                  0.000000                0.000000  6.787061e+04   \n",
       "50%                  0.000000                0.000000  1.064092e+05   \n",
       "75%                  0.000000                0.000000  1.187563e+05   \n",
       "max             681462.900000           397884.300000  2.203474e+07   \n",
       "\n",
       "             TARGET  \n",
       "count  76020.000000  \n",
       "mean       0.039569  \n",
       "std        0.194945  \n",
       "min        0.000000  \n",
       "25%        0.000000  \n",
       "50%        0.000000  \n",
       "75%        0.000000  \n",
       "max        1.000000  \n",
       "\n",
       "[8 rows x 371 columns]"
      ]
     },
     "execution_count": 7,
     "metadata": {},
     "output_type": "execute_result"
    }
   ],
   "source": [
    "# Sumário estatístico das variáveis\n",
    "df_train.describe()"
   ]
  },
  {
   "cell_type": "code",
   "execution_count": 8,
   "metadata": {
    "scrolled": true
   },
   "outputs": [
    {
     "data": {
      "text/plain": [
       "(76020, 371)"
      ]
     },
     "execution_count": 8,
     "metadata": {},
     "output_type": "execute_result"
    }
   ],
   "source": [
    "# Visualizando as dimensões\n",
    "df_train.shape"
   ]
  },
  {
   "cell_type": "code",
   "execution_count": 9,
   "metadata": {
    "scrolled": true
   },
   "outputs": [
    {
     "data": {
      "text/plain": [
       "TARGET\n",
       "0    73012\n",
       "1     3008\n",
       "dtype: int64"
      ]
     },
     "execution_count": 9,
     "metadata": {},
     "output_type": "execute_result"
    }
   ],
   "source": [
    "# Distribuição da variável TARGET\n",
    "df_train.groupby('TARGET').size()"
   ]
  },
  {
   "cell_type": "code",
   "execution_count": 10,
   "metadata": {
    "scrolled": true
   },
   "outputs": [
    {
     "data": {
      "text/plain": [
       "<matplotlib.axes._subplots.AxesSubplot at 0x16576296b70>"
      ]
     },
     "execution_count": 10,
     "metadata": {},
     "output_type": "execute_result"
    },
    {
     "data": {
      "image/png": "[encoded data removed]",
      "text/plain": [
       "<Figure size 432x288 with 1 Axes>"
      ]
     },
     "metadata": {
      "needs_background": "light"
     },
     "output_type": "display_data"
    }
   ],
   "source": [
    "df_train.groupby('TARGET').size().plot(kind='bar')\n"
   ]
  },
  {
   "cell_type": "code",
   "execution_count": 11,
   "metadata": {
    "scrolled": true
   },
   "outputs": [
    {
     "name": "stdout",
     "output_type": "stream",
     "text": [
      " Dados treino: False \n",
      " Dados test: False \n"
     ]
    },
    {
     "data": {
      "text/plain": [
       "False"
      ]
     },
     "execution_count": 11,
     "metadata": {},
     "output_type": "execute_result"
    }
   ],
   "source": [
    "# Verificar se existe valores nulos nos dados de treino e teste.\n",
    "print(f' Dados treino: {df_train.isnull().values.any()} \\n Dados test: {df_test.isnull().values.any()} ')\n",
    "\n",
    "df_train.isnull().values.any()"
   ]
  },
  {
   "cell_type": "code",
   "execution_count": 3,
   "metadata": {
    "scrolled": true
   },
   "outputs": [],
   "source": [
    "# Removo a variável ID  do df_treino e ID do df_teste.\n",
    "df_train=df_train.drop(['ID'], axis=1)\n",
    "df_test=df_test.drop(['ID'], axis=1)\n"
   ]
  },
  {
   "cell_type": "code",
   "execution_count": 13,
   "metadata": {
    "scrolled": true
   },
   "outputs": [
    {
     "data": {
      "text/html": [
       "<div>\n",
       "<style scoped>\n",
       "    .dataframe tbody tr th:only-of-type {\n",
       "        vertical-align: middle;\n",
       "    }\n",
       "\n",
       "    .dataframe tbody tr th {\n",
       "        vertical-align: top;\n",
       "    }\n",
       "\n",
       "    .dataframe thead th {\n",
       "        text-align: right;\n",
       "    }\n",
       "</style>\n",
       "<table border=\"1\" class=\"dataframe\">\n",
       "  <thead>\n",
       "    <tr style=\"text-align: right;\">\n",
       "      <th></th>\n",
       "      <th>var3</th>\n",
       "      <th>var15</th>\n",
       "      <th>imp_ent_var16_ult1</th>\n",
       "      <th>imp_op_var39_comer_ult1</th>\n",
       "      <th>imp_op_var39_comer_ult3</th>\n",
       "      <th>imp_op_var40_comer_ult1</th>\n",
       "      <th>imp_op_var40_comer_ult3</th>\n",
       "      <th>imp_op_var40_efect_ult1</th>\n",
       "      <th>imp_op_var40_efect_ult3</th>\n",
       "      <th>imp_op_var40_ult1</th>\n",
       "      <th>...</th>\n",
       "      <th>saldo_medio_var33_hace2</th>\n",
       "      <th>saldo_medio_var33_hace3</th>\n",
       "      <th>saldo_medio_var33_ult1</th>\n",
       "      <th>saldo_medio_var33_ult3</th>\n",
       "      <th>saldo_medio_var44_hace2</th>\n",
       "      <th>saldo_medio_var44_hace3</th>\n",
       "      <th>saldo_medio_var44_ult1</th>\n",
       "      <th>saldo_medio_var44_ult3</th>\n",
       "      <th>var38</th>\n",
       "      <th>TARGET</th>\n",
       "    </tr>\n",
       "  </thead>\n",
       "  <tbody>\n",
       "    <tr>\n",
       "      <th>0</th>\n",
       "      <td>2</td>\n",
       "      <td>23</td>\n",
       "      <td>0.0</td>\n",
       "      <td>0.0</td>\n",
       "      <td>0.0</td>\n",
       "      <td>0.0</td>\n",
       "      <td>0.0</td>\n",
       "      <td>0.0</td>\n",
       "      <td>0.0</td>\n",
       "      <td>0.0</td>\n",
       "      <td>...</td>\n",
       "      <td>0.0</td>\n",
       "      <td>0.0</td>\n",
       "      <td>0.0</td>\n",
       "      <td>0.0</td>\n",
       "      <td>0.0</td>\n",
       "      <td>0.0</td>\n",
       "      <td>0.0</td>\n",
       "      <td>0.0</td>\n",
       "      <td>39205.17</td>\n",
       "      <td>0</td>\n",
       "    </tr>\n",
       "    <tr>\n",
       "      <th>1</th>\n",
       "      <td>2</td>\n",
       "      <td>34</td>\n",
       "      <td>0.0</td>\n",
       "      <td>0.0</td>\n",
       "      <td>0.0</td>\n",
       "      <td>0.0</td>\n",
       "      <td>0.0</td>\n",
       "      <td>0.0</td>\n",
       "      <td>0.0</td>\n",
       "      <td>0.0</td>\n",
       "      <td>...</td>\n",
       "      <td>0.0</td>\n",
       "      <td>0.0</td>\n",
       "      <td>0.0</td>\n",
       "      <td>0.0</td>\n",
       "      <td>0.0</td>\n",
       "      <td>0.0</td>\n",
       "      <td>0.0</td>\n",
       "      <td>0.0</td>\n",
       "      <td>49278.03</td>\n",
       "      <td>0</td>\n",
       "    </tr>\n",
       "    <tr>\n",
       "      <th>2</th>\n",
       "      <td>2</td>\n",
       "      <td>23</td>\n",
       "      <td>0.0</td>\n",
       "      <td>0.0</td>\n",
       "      <td>0.0</td>\n",
       "      <td>0.0</td>\n",
       "      <td>0.0</td>\n",
       "      <td>0.0</td>\n",
       "      <td>0.0</td>\n",
       "      <td>0.0</td>\n",
       "      <td>...</td>\n",
       "      <td>0.0</td>\n",
       "      <td>0.0</td>\n",
       "      <td>0.0</td>\n",
       "      <td>0.0</td>\n",
       "      <td>0.0</td>\n",
       "      <td>0.0</td>\n",
       "      <td>0.0</td>\n",
       "      <td>0.0</td>\n",
       "      <td>67333.77</td>\n",
       "      <td>0</td>\n",
       "    </tr>\n",
       "  </tbody>\n",
       "</table>\n",
       "<p>3 rows × 370 columns</p>\n",
       "</div>"
      ],
      "text/plain": [
       "   var3  var15  imp_ent_var16_ult1  imp_op_var39_comer_ult1  \\\n",
       "0     2     23                 0.0                      0.0   \n",
       "1     2     34                 0.0                      0.0   \n",
       "2     2     23                 0.0                      0.0   \n",
       "\n",
       "   imp_op_var39_comer_ult3  imp_op_var40_comer_ult1  imp_op_var40_comer_ult3  \\\n",
       "0                      0.0                      0.0                      0.0   \n",
       "1                      0.0                      0.0                      0.0   \n",
       "2                      0.0                      0.0                      0.0   \n",
       "\n",
       "   imp_op_var40_efect_ult1  imp_op_var40_efect_ult3  imp_op_var40_ult1  ...  \\\n",
       "0                      0.0                      0.0                0.0  ...   \n",
       "1                      0.0                      0.0                0.0  ...   \n",
       "2                      0.0                      0.0                0.0  ...   \n",
       "\n",
       "   saldo_medio_var33_hace2  saldo_medio_var33_hace3  saldo_medio_var33_ult1  \\\n",
       "0                      0.0                      0.0                     0.0   \n",
       "1                      0.0                      0.0                     0.0   \n",
       "2                      0.0                      0.0                     0.0   \n",
       "\n",
       "   saldo_medio_var33_ult3  saldo_medio_var44_hace2  saldo_medio_var44_hace3  \\\n",
       "0                     0.0                      0.0                      0.0   \n",
       "1                     0.0                      0.0                      0.0   \n",
       "2                     0.0                      0.0                      0.0   \n",
       "\n",
       "   saldo_medio_var44_ult1  saldo_medio_var44_ult3     var38  TARGET  \n",
       "0                     0.0                     0.0  39205.17       0  \n",
       "1                     0.0                     0.0  49278.03       0  \n",
       "2                     0.0                     0.0  67333.77       0  \n",
       "\n",
       "[3 rows x 370 columns]"
      ]
     },
     "execution_count": 13,
     "metadata": {},
     "output_type": "execute_result"
    }
   ],
   "source": [
    "df_train.head(3)"
   ]
  },
  {
   "cell_type": "code",
   "execution_count": 14,
   "metadata": {
    "scrolled": true
   },
   "outputs": [
    {
     "data": {
      "text/html": [
       "<div>\n",
       "<style scoped>\n",
       "    .dataframe tbody tr th:only-of-type {\n",
       "        vertical-align: middle;\n",
       "    }\n",
       "\n",
       "    .dataframe tbody tr th {\n",
       "        vertical-align: top;\n",
       "    }\n",
       "\n",
       "    .dataframe thead th {\n",
       "        text-align: right;\n",
       "    }\n",
       "</style>\n",
       "<table border=\"1\" class=\"dataframe\">\n",
       "  <thead>\n",
       "    <tr style=\"text-align: right;\">\n",
       "      <th></th>\n",
       "      <th>var3</th>\n",
       "      <th>var15</th>\n",
       "      <th>imp_ent_var16_ult1</th>\n",
       "      <th>imp_op_var39_comer_ult1</th>\n",
       "      <th>imp_op_var39_comer_ult3</th>\n",
       "      <th>imp_op_var40_comer_ult1</th>\n",
       "      <th>imp_op_var40_comer_ult3</th>\n",
       "      <th>imp_op_var40_efect_ult1</th>\n",
       "      <th>imp_op_var40_efect_ult3</th>\n",
       "      <th>imp_op_var40_ult1</th>\n",
       "      <th>...</th>\n",
       "      <th>saldo_medio_var29_ult3</th>\n",
       "      <th>saldo_medio_var33_hace2</th>\n",
       "      <th>saldo_medio_var33_hace3</th>\n",
       "      <th>saldo_medio_var33_ult1</th>\n",
       "      <th>saldo_medio_var33_ult3</th>\n",
       "      <th>saldo_medio_var44_hace2</th>\n",
       "      <th>saldo_medio_var44_hace3</th>\n",
       "      <th>saldo_medio_var44_ult1</th>\n",
       "      <th>saldo_medio_var44_ult3</th>\n",
       "      <th>var38</th>\n",
       "    </tr>\n",
       "  </thead>\n",
       "  <tbody>\n",
       "    <tr>\n",
       "      <th>0</th>\n",
       "      <td>2</td>\n",
       "      <td>32</td>\n",
       "      <td>0.0</td>\n",
       "      <td>0.0</td>\n",
       "      <td>0.0</td>\n",
       "      <td>0.0</td>\n",
       "      <td>0.0</td>\n",
       "      <td>0.0</td>\n",
       "      <td>0.0</td>\n",
       "      <td>0.0</td>\n",
       "      <td>...</td>\n",
       "      <td>0.0</td>\n",
       "      <td>0.0</td>\n",
       "      <td>0.0</td>\n",
       "      <td>0.0</td>\n",
       "      <td>0.0</td>\n",
       "      <td>0.0</td>\n",
       "      <td>0.0</td>\n",
       "      <td>0.0</td>\n",
       "      <td>0.0</td>\n",
       "      <td>40532.10</td>\n",
       "    </tr>\n",
       "    <tr>\n",
       "      <th>1</th>\n",
       "      <td>2</td>\n",
       "      <td>35</td>\n",
       "      <td>0.0</td>\n",
       "      <td>0.0</td>\n",
       "      <td>0.0</td>\n",
       "      <td>0.0</td>\n",
       "      <td>0.0</td>\n",
       "      <td>0.0</td>\n",
       "      <td>0.0</td>\n",
       "      <td>0.0</td>\n",
       "      <td>...</td>\n",
       "      <td>0.0</td>\n",
       "      <td>0.0</td>\n",
       "      <td>0.0</td>\n",
       "      <td>0.0</td>\n",
       "      <td>0.0</td>\n",
       "      <td>0.0</td>\n",
       "      <td>0.0</td>\n",
       "      <td>0.0</td>\n",
       "      <td>0.0</td>\n",
       "      <td>45486.72</td>\n",
       "    </tr>\n",
       "    <tr>\n",
       "      <th>2</th>\n",
       "      <td>2</td>\n",
       "      <td>23</td>\n",
       "      <td>0.0</td>\n",
       "      <td>0.0</td>\n",
       "      <td>0.0</td>\n",
       "      <td>0.0</td>\n",
       "      <td>0.0</td>\n",
       "      <td>0.0</td>\n",
       "      <td>0.0</td>\n",
       "      <td>0.0</td>\n",
       "      <td>...</td>\n",
       "      <td>0.0</td>\n",
       "      <td>0.0</td>\n",
       "      <td>0.0</td>\n",
       "      <td>0.0</td>\n",
       "      <td>0.0</td>\n",
       "      <td>0.0</td>\n",
       "      <td>0.0</td>\n",
       "      <td>0.0</td>\n",
       "      <td>0.0</td>\n",
       "      <td>46993.95</td>\n",
       "    </tr>\n",
       "  </tbody>\n",
       "</table>\n",
       "<p>3 rows × 369 columns</p>\n",
       "</div>"
      ],
      "text/plain": [
       "   var3  var15  imp_ent_var16_ult1  imp_op_var39_comer_ult1  \\\n",
       "0     2     32                 0.0                      0.0   \n",
       "1     2     35                 0.0                      0.0   \n",
       "2     2     23                 0.0                      0.0   \n",
       "\n",
       "   imp_op_var39_comer_ult3  imp_op_var40_comer_ult1  imp_op_var40_comer_ult3  \\\n",
       "0                      0.0                      0.0                      0.0   \n",
       "1                      0.0                      0.0                      0.0   \n",
       "2                      0.0                      0.0                      0.0   \n",
       "\n",
       "   imp_op_var40_efect_ult1  imp_op_var40_efect_ult3  imp_op_var40_ult1  ...  \\\n",
       "0                      0.0                      0.0                0.0  ...   \n",
       "1                      0.0                      0.0                0.0  ...   \n",
       "2                      0.0                      0.0                0.0  ...   \n",
       "\n",
       "   saldo_medio_var29_ult3  saldo_medio_var33_hace2  saldo_medio_var33_hace3  \\\n",
       "0                     0.0                      0.0                      0.0   \n",
       "1                     0.0                      0.0                      0.0   \n",
       "2                     0.0                      0.0                      0.0   \n",
       "\n",
       "   saldo_medio_var33_ult1  saldo_medio_var33_ult3  saldo_medio_var44_hace2  \\\n",
       "0                     0.0                     0.0                      0.0   \n",
       "1                     0.0                     0.0                      0.0   \n",
       "2                     0.0                     0.0                      0.0   \n",
       "\n",
       "   saldo_medio_var44_hace3  saldo_medio_var44_ult1  saldo_medio_var44_ult3  \\\n",
       "0                      0.0                     0.0                     0.0   \n",
       "1                      0.0                     0.0                     0.0   \n",
       "2                      0.0                     0.0                     0.0   \n",
       "\n",
       "      var38  \n",
       "0  40532.10  \n",
       "1  45486.72  \n",
       "2  46993.95  \n",
       "\n",
       "[3 rows x 369 columns]"
      ]
     },
     "execution_count": 14,
     "metadata": {},
     "output_type": "execute_result"
    }
   ],
   "source": [
    "df_test.head(3)"
   ]
  },
  {
   "cell_type": "code",
   "execution_count": 4,
   "metadata": {
    "scrolled": true
   },
   "outputs": [
    {
     "data": {
      "text/plain": [
       "34"
      ]
     },
     "execution_count": 4,
     "metadata": {},
     "output_type": "execute_result"
    }
   ],
   "source": [
    "# Realizando uma analise, verificamos que algumas variáveis são constantes ou seja, apresentam sempre  mesmo valor,\n",
    "# Vamos extrair elas do data set pois para um algoritmo essas variáveis podem ser consideradas sem grande valor. \n",
    "uniquevalues = df_train.nunique()\n",
    "uniquevalues = uniquevalues[uniquevalues==1]\n",
    "uniquevalues.count()"
   ]
  },
  {
   "cell_type": "code",
   "execution_count": 5,
   "metadata": {
    "scrolled": true
   },
   "outputs": [],
   "source": [
    "# Retiro essas variáveis tanto do meu data set de treino quanto do de teste, como o algoritmo não vai conhecer essas variáveis, as retiro do teste.  \n",
    "df_train = df_train.drop(uniquevalues.index, axis=1)\n",
    "df_test = df_test.drop(uniquevalues.index, axis=1)"
   ]
  },
  {
   "cell_type": "code",
   "execution_count": 9,
   "metadata": {
    "scrolled": false
   },
   "outputs": [
    {
     "name": "stdout",
     "output_type": "stream",
     "text": [
      " Dados treino:(76020, 336) \n",
      " Dados Teste: (75818, 335)\n"
     ]
    }
   ],
   "source": [
    "# Verifico o shape apos a exclusão dessas variáveis \n",
    "print (f' Dados treino:{df_train.shape} \\n Dados Teste: {df_test.shape}')\n"
   ]
  },
  {
   "cell_type": "markdown",
   "metadata": {},
   "source": [
    "## Balanceamento dos dados com o SMOTE"
   ]
  },
  {
   "cell_type": "code",
   "execution_count": 6,
   "metadata": {
    "scrolled": true
   },
   "outputs": [
    {
     "data": {
      "text/plain": [
       "0    73012\n",
       "1     3008\n",
       "Name: TARGET, dtype: int64"
      ]
     },
     "execution_count": 6,
     "metadata": {},
     "output_type": "execute_result"
    }
   ],
   "source": [
    "# Como ja vimos anteriormente  e agora novamente temos muitos mais casos de clientes satisfeito do que insatisfeitos \n",
    "# Temos que balancear para não deixar o algoritmo tendencioso. \n",
    "\n",
    "df_train.TARGET.value_counts()"
   ]
  },
  {
   "cell_type": "code",
   "execution_count": 7,
   "metadata": {
    "scrolled": true
   },
   "outputs": [],
   "source": [
    "# Extrario as variaveis preditoras e target para treinar como SMOTE\n",
    "X_df_train_Smote = df_train.iloc[:,0:335]\n",
    "Y_df_train_Smote = df_train['TARGET']"
   ]
  },
  {
   "cell_type": "code",
   "execution_count": 8,
   "metadata": {
    "scrolled": true
   },
   "outputs": [
    {
     "data": {
      "text/plain": [
       "(76020, 335)"
      ]
     },
     "execution_count": 8,
     "metadata": {},
     "output_type": "execute_result"
    }
   ],
   "source": [
    "X_df_train_Smote.shape"
   ]
  },
  {
   "cell_type": "code",
   "execution_count": 9,
   "metadata": {
    "scrolled": true
   },
   "outputs": [],
   "source": [
    "# Faço o balanceamento das variavel target \n",
    "smt = SMOTE()\n",
    "X_df_train_Smote,Y_df_train_Smote = smt.fit_sample(X_df_train_Smote,Y_df_train_Smote)"
   ]
  },
  {
   "cell_type": "code",
   "execution_count": 10,
   "metadata": {
    "scrolled": false
   },
   "outputs": [
    {
     "data": {
      "text/plain": [
       "(146024, 335)"
      ]
     },
     "execution_count": 10,
     "metadata": {},
     "output_type": "execute_result"
    }
   ],
   "source": [
    "X_df_train_Smote.shape"
   ]
  },
  {
   "cell_type": "code",
   "execution_count": 11,
   "metadata": {
    "scrolled": true
   },
   "outputs": [
    {
     "data": {
      "text/plain": [
       "1    73012\n",
       "0    73012\n",
       "Name: TARGET, dtype: int64"
      ]
     },
     "execution_count": 11,
     "metadata": {},
     "output_type": "execute_result"
    }
   ],
   "source": [
    "Y_df_train_Smote.value_counts()"
   ]
  },
  {
   "cell_type": "code",
   "execution_count": 45,
   "metadata": {
    "scrolled": true
   },
   "outputs": [
    {
     "data": {
      "text/plain": [
       "<matplotlib.axes._subplots.AxesSubplot at 0x16527ae38d0>"
      ]
     },
     "execution_count": 45,
     "metadata": {},
     "output_type": "execute_result"
    },
    {
     "data": {
      "image/png": "[encoded data removed]",
      "text/plain": [
       "<Figure size 432x288 with 1 Axes>"
      ]
     },
     "metadata": {
      "needs_background": "light"
     },
     "output_type": "display_data"
    }
   ],
   "source": [
    "Y_df_train_Smote.value_counts().plot(kind='bar')\n"
   ]
  },
  {
   "cell_type": "markdown",
   "metadata": {},
   "source": [
    "## Feature Selection"
   ]
  },
  {
   "cell_type": "markdown",
   "metadata": {},
   "source": [
    "### Funções auxiliares "
   ]
  },
  {
   "cell_type": "markdown",
   "metadata": {},
   "source": [
    "Criarei algumas funções auxiliares que nos ajudarão a normalizar os dados, selecionar as melhores variáveis e tecnica PCA"
   ]
  },
  {
   "cell_type": "code",
   "execution_count": 19,
   "metadata": {
    "scrolled": true
   },
   "outputs": [],
   "source": [
    "# Função para normalização e padronização de dados \n",
    "\n",
    "def dataNormalization(features, transform = None):\n",
    "    \n",
    "    if transform == 'MM':\n",
    "        scaler = MinMaxScaler()\n",
    "        rescaled_features = scaler.fit_transform(features)\n",
    "        # DataFrame com os resultados.\n",
    "        rescaled_featuresDF = pd.DataFrame(data = rescaled_features, columns = features.columns)\n",
    "        # Caso precise voltar ao padrão use a função inverse_transform\n",
    "        # scaler.inverse_transform(features)\n",
    "        \n",
    "    elif transform == 'N':\n",
    "        scaler = Normalizer()\n",
    "        rescaled_features = scaler.fit_transform(features)\n",
    "        # DataFrame com os resultados.\n",
    "        rescaled_featuresDF = pd.DataFrame(data = rescaled_features, columns = features.columns)\n",
    "        \n",
    "    elif transform == 'SS':\n",
    "        scaler = StandardScaler()\n",
    "        rescaled_features = scaler.fit_transform(features)\n",
    "        # DataFrame com os resultados.\n",
    "        rescaled_featuresDF = pd.DataFrame(data = rescaled_features, columns = features.columns)\n",
    "        # Caso precise voltar ao padrão use a função inverse_transform\n",
    "        # scaler.inverse_transform(features, copy=None)\n",
    "        \n",
    "    return rescaled_featuresDF"
   ]
  },
  {
   "cell_type": "code",
   "execution_count": 20,
   "metadata": {
    "scrolled": true
   },
   "outputs": [],
   "source": [
    "# Função para aplicar técnica  PCA\n",
    "\n",
    "def pcaFeatures( features, n_components = None ):\n",
    "    # Normalizando os dados\n",
    "    scaler = MinMaxScaler(feature_range = (0, 1))\n",
    "    FeatureMM = scaler.fit_transform(features)\n",
    "    \n",
    "    # Seleção de atributos\n",
    "    pca = PCA(n_components)\n",
    "    Feature_PCA = pca.fit_transform(FeatureMM)\n",
    "    \n",
    "    return Feature_PCA \n"
   ]
  },
  {
   "cell_type": "code",
   "execution_count": 21,
   "metadata": {
    "scrolled": true
   },
   "outputs": [],
   "source": [
    "# Função para seleção das melhores variáveis \n",
    "\n",
    "# KindSelection = None -> padrão para todos, função que determina qual sera o algortmo de seleção\n",
    "# feature_number = None -> quantidade de variáveis com mais importancia. \n",
    "# columns = None -> Padrão para todos, deve criar uma variavel columns contendo os nomes das variaveis.\n",
    "# score_func = None -> usado no Selectbest, como por exemplo chi2 \n",
    "# n_estimators = None -> usado no RandomForestClassifier, por exemplo 200.\n",
    "# random_state = usado no RandomForestClassifier.\n",
    "# discrete_features = None -> usado no mutual_info_classif, exemplo 'auto'\n",
    "\n",
    "def FeatureSelection (features, target,columns = None, KindSelection = None, score_func = None, feature_number = None, n_estimators = None,\n",
    "                      random_state = None, discrete_features = None):\n",
    "    \n",
    "    # Usando o SelectKBest para seleção das variáveis \n",
    "    if KindSelection == 'SKB':\n",
    "        best_var = SelectKBest(score_func, k = feature_number)\n",
    "        features_SKB = best_var.fit_transform(features, target)\n",
    "        Best_features = columns[best_var.get_support()]\n",
    "    \n",
    "    # Usando o ExtraTreesClassifier para seleção das variáveis\n",
    "    elif KindSelection == 'ETC':\n",
    "        best_var = ExtraTreesClassifier()\n",
    "        features_ETC = best_var.fit(features, target)\n",
    "        features_importance = pd.DataFrame(data = features_ETC.feature_importances_, index = columns, columns = ['Importance_Score'])\n",
    "        Best_features = features_importance.sort_values(by = 'Importance_Score', ascending = False).head(feature_number)\n",
    "     \n",
    "    # Usando o RFE para seleção das variáveis\n",
    "    elif KindSelection == 'RFE':\n",
    "        modelo = LogisticRegression()\n",
    "        best_var = RFE(modelo, feature_number)\n",
    "        features_RFE = best_var.fit(features, target)\n",
    "        Best_features=columns[[i for i in columns if i in features_RFE.support_]]\n",
    "    \n",
    "    # Usando o RandomForestClassifier para seleção das variáveis\n",
    "    elif KindSelection == 'RFC':\n",
    "        best_var = RandomForestClassifier(n_estimators = n_estimators,random_state = random_state)\n",
    "        features_RFC = best_var.fit(features, target)\n",
    "        predictF = features_RFC.predict(features)\n",
    "        features_importance = pd.Series(data = features_RFC.feature_importances_, index = columns)\n",
    "        Best_features_RFC = features_importance.nlargest(feature_number)\n",
    "        Best_features = Best_features_RFC.index\n",
    "\n",
    "    # Usando o mutual_info_classif para seleção das variáveis\n",
    "    elif KindSelection == 'MIC':\n",
    "        best_var = mutual_info_classif(features, target, discrete_features , n_neighbors = 3 )\n",
    "        features_importance = pd.DataFrame(best_var, index = columns,  columns = ['Importance_Score'])\n",
    "        Best_features = features_importance.sort_values(by='Importance_Score', ascending=False).head(feature_number)\n",
    "        \n",
    "    return Best_features"
   ]
  },
  {
   "cell_type": "markdown",
   "metadata": {},
   "source": [
    "### Selecionando variáveis mais importantes em cada algortimo\n",
    " "
   ]
  },
  {
   "cell_type": "markdown",
   "metadata": {},
   "source": [
    "#### Min Max Scaler"
   ]
  },
  {
   "cell_type": "code",
   "execution_count": 60,
   "metadata": {
    "scrolled": true
   },
   "outputs": [
    {
     "data": {
      "text/plain": [
       "Index(['var15', 'ind_var5', 'ind_var12_0', 'ind_var30', 'saldo_var5',\n",
       "       'saldo_var30', 'saldo_var42', 'var36', 'ind_var43_recib_ult1',\n",
       "       'num_meses_var5_ult3', 'saldo_medio_var5_hace2',\n",
       "       'saldo_medio_var5_hace3', 'saldo_medio_var5_ult3', 'var38'],\n",
       "      dtype='object')"
      ]
     },
     "execution_count": 60,
     "metadata": {},
     "output_type": "execute_result"
    }
   ],
   "source": [
    "# Pego os nomes das colunas \n",
    "columns = X_df_train_Smote.columns\n",
    "\n",
    "# Usando a função de normalização convertos os dados para a escala min max scaler\n",
    "X_trainMM = dataNormalization(features = X_df_train_Smote , transform = 'MM')\n",
    "\n",
    "# Seleção de variável com o SelectKBest\n",
    "variaveis_SKB = FeatureSelection(features=X_trainMM, target=Y_df_train_Smote, KindSelection ='SKB' , columns = columns, score_func = chi2, feature_number = 6, n_estimators = None,\n",
    "                      random_state = None, discrete_features = None)\n",
    "\n",
    "# Seleção de variável com o ExtraTreesClassifier\n",
    "variaveis_ETC= FeatureSelection(features=X_trainMM, target=Y_df_train_Smote, KindSelection ='ETC' , columns = columns, score_func = None, feature_number = 6, n_estimators = None,\n",
    "                      random_state = None, discrete_features = None)\n",
    "\n",
    "# Seleção de variável com o mutual_info_classif\n",
    "variaveis_MIC= FeatureSelection(features=X_trainMM, target=Y_df_train_Smote, KindSelection ='MIC' , columns = columns, score_func = None, feature_number = 6, n_estimators = None,\n",
    "                      random_state = None, discrete_features = 'auto')\n",
    "\n",
    "# Junto todas as variáves em uma série do pandas para filtrar no df geral. \n",
    "feature = pd.concat([pd.Series(variaveis_ETC.index),pd.Series(variaveis_SKB), pd.Series(variaveis_MIC.index)],ignore_index=True)\n",
    "\n",
    "# Trago todos as variáveis e passo em um list comprehension para criar um df com apenas as variáveis selecionadas. \n",
    "X_featureMM = X_trainMM[[i for i in X_trainMM if i in feature.values]]\n",
    "\n",
    "# Retiro possiveis colunas duplicadas\n",
    "X_featureMM = X_featureMM.T.drop_duplicates().T\n",
    "\n",
    "X_featureMM.columns"
   ]
  },
  {
   "cell_type": "markdown",
   "metadata": {},
   "source": [
    "#### Normalizer"
   ]
  },
  {
   "cell_type": "code",
   "execution_count": 70,
   "metadata": {
    "scrolled": true
   },
   "outputs": [
    {
     "data": {
      "text/plain": [
       "Index(['var15', 'ind_var5', 'ind_var30_0', 'ind_var30', 'ind_var39_0',\n",
       "       'num_var4', 'num_var5_0', 'num_var5', 'num_var30_0', 'num_var30',\n",
       "       'num_var35', 'num_var42', 'saldo_var30', 'var36',\n",
       "       'num_meses_var5_ult3'],\n",
       "      dtype='object')"
      ]
     },
     "execution_count": 70,
     "metadata": {},
     "output_type": "execute_result"
    }
   ],
   "source": [
    "# Pego os nomes das colunas \n",
    "columns = X_df_train_Smote.columns\n",
    "\n",
    "# Usando a função de normalização convertos os dados para a escala Normalizer\n",
    "X_trainN = dataNormalization(features = X_df_train_Smote , transform = 'N')\n",
    "\n",
    "# Seleção de variável com o SelectKBest\n",
    "variaveis_SKB = FeatureSelection(features=X_trainN, target=Y_df_train_Smote, KindSelection ='SKB' , columns = columns, score_func = f_classif, feature_number = 10, n_estimators = None,\n",
    "                      random_state = None, discrete_features = None)\n",
    "\n",
    "# Seleção de variável com o ExtraTreesClassifier\n",
    "variaveis_ETC= FeatureSelection(features=X_trainN, target=Y_df_train_Smote, KindSelection ='ETC' , columns = columns, score_func = None, feature_number = 10, n_estimators = None,\n",
    "                      random_state = None, discrete_features = None)\n",
    "\n",
    "# Seleção de variável com o mutual_info_classif\n",
    "variaveis_MIC= FeatureSelection(features=X_trainN, target=Y_df_train_Smote, KindSelection ='MIC' , columns = columns, score_func = None, feature_number = 10, n_estimators = None,\n",
    "                      random_state = None, discrete_features = 'auto')\n",
    "\n",
    "# Junto todas as variáves em uma série do pandas para filtrar no df geral. \n",
    "feature = pd.concat([pd.Series(variaveis_ETC.index),pd.Series(variaveis_SKB), pd.Series(variaveis_MIC.index)],ignore_index=True)\n",
    "\n",
    "# Trago todos as variáveis e passo em um list comprehension para criar um df com apenas as variáveis selecionadas. \n",
    "X_featureN = X_trainN[[i for i in X_trainN if i in feature.values]]\n",
    "\n",
    "# Retiro possiveis colunas duplicadas\n",
    "X_featureN = X_featureN.T.drop_duplicates().T\n",
    "\n",
    "X_featureN.columns"
   ]
  },
  {
   "cell_type": "markdown",
   "metadata": {},
   "source": [
    "#### StandardScaler"
   ]
  },
  {
   "cell_type": "code",
   "execution_count": 69,
   "metadata": {
    "scrolled": false
   },
   "outputs": [
    {
     "data": {
      "text/plain": [
       "Index(['var15', 'ind_var5', 'ind_var30', 'num_var5', 'num_var30', 'num_var35',\n",
       "       'num_var42', 'saldo_var30', 'saldo_var42', 'var36',\n",
       "       'num_meses_var5_ult3', 'saldo_medio_var5_hace2',\n",
       "       'saldo_medio_var5_hace3', 'saldo_medio_var5_ult3', 'var38'],\n",
       "      dtype='object')"
      ]
     },
     "execution_count": 69,
     "metadata": {},
     "output_type": "execute_result"
    }
   ],
   "source": [
    "# Pego os nomes das colunas \n",
    "columns = X_df_train_Smote.columns\n",
    "\n",
    "# Usando a função de normalização convertos os dados para a escala StandardScaler\n",
    "X_trainSS = dataNormalization(features = X_df_train_Smote , transform = 'SS')\n",
    "\n",
    "# Seleção de variável com o SelectKBest\n",
    "variaveis_SKB = FeatureSelection(features=X_trainSS, target=Y_df_train_Smote, KindSelection ='SKB' , columns = columns, score_func = f_classif, feature_number = 6, n_estimators = None,\n",
    "                      random_state = None, discrete_features = None)\n",
    "\n",
    "# Seleção de variável com o ExtraTreesClassifier\n",
    "variaveis_ETC= FeatureSelection(features=X_trainSS, target=Y_df_train_Smote, KindSelection ='ETC' , columns = columns, score_func = None, feature_number = 6, n_estimators = None,\n",
    "                      random_state = None, discrete_features = None)\n",
    "\n",
    "# Seleção de variável com o mutual_info_classif\n",
    "variaveis_MIC= FeatureSelection(features=X_trainSS, target=Y_df_train_Smote, KindSelection ='MIC' , columns = columns, score_func = None, feature_number = 6, n_estimators = None,\n",
    "                      random_state = None, discrete_features = 'auto')\n",
    "\n",
    "# Junto todas as variáves em uma série do pandas para filtrar no df geral. \n",
    "feature = pd.concat([pd.Series(variaveis_ETC.index),pd.Series(variaveis_SKB), pd.Series(variaveis_MIC.index)],ignore_index=True)\n",
    "\n",
    "# Trago todos as variáveis e passo em um list comprehension para criar um df com apenas as variáveis selecionadas. \n",
    "X_featureSS = X_trainSS[[i for i in X_trainSS if i in feature.values]]\n",
    "\n",
    "# Retiro possiveis colunas duplicadas\n",
    "X_featureSS = X_featureSS.T.drop_duplicates().T\n",
    "\n",
    "X_featureSS.columns"
   ]
  },
  {
   "cell_type": "markdown",
   "metadata": {},
   "source": [
    "#### PCA"
   ]
  },
  {
   "cell_type": "code",
   "execution_count": 22,
   "metadata": {
    "scrolled": true
   },
   "outputs": [],
   "source": [
    "# Faço um filtro com a seleção de variáveis com o mim max scaler para pegar 120  variáveis mais importantes com o RandomForestClassifier\n",
    "\n",
    "# Pego os nomes das colunas \n",
    "columns = X_df_train_Smote.columns\n",
    "\n",
    "# Usando a função de normalização convertos os dados para a escala min max scaler\n",
    "X_trainPCA = dataNormalization(features = X_df_train_Smote , transform = 'MM')\n",
    "\n",
    "# Seleção de variável com o RandomForestClassifier\n",
    "variaveis_RFC= FeatureSelection(features=X_trainPCA, target=Y_df_train_Smote, KindSelection ='RFC' , columns = columns, score_func = None, feature_number = 120, n_estimators = 200,\n",
    "                      random_state = 0, discrete_features = None)\n",
    "variaveis_RFC\n",
    "\n",
    "# Junto todas as variáves em uma série do pandas para filtrar no df geral. \n",
    "feature = pd.Series(variaveis_RFC)\n",
    "\n",
    "# Trago todos as variáveis e passo em um list comprehension para criar um df com apenas as variáveis selecionadas. \n",
    "X_featurePCA = X_trainPCA[[i for i in X_trainPCA if i in feature.values]]\n"
   ]
  },
  {
   "cell_type": "code",
   "execution_count": 25,
   "metadata": {},
   "outputs": [
    {
     "data": {
      "text/plain": [
       "array([[-0.80903157,  0.19404366, -0.58961449, -0.13620562],\n",
       "       [ 0.32635955,  0.0187023 , -0.31534237,  0.86948858],\n",
       "       [ 0.59372718, -0.45984581, -0.15042893, -0.40213889],\n",
       "       ...,\n",
       "       [-0.21907376,  0.04033232, -0.43031104,  0.09887826],\n",
       "       [-0.95577078, -0.26901091,  0.93613917,  0.12303758],\n",
       "       [-1.30089839, -0.19228147,  0.84293463, -0.04275389]])"
      ]
     },
     "execution_count": 25,
     "metadata": {},
     "output_type": "execute_result"
    }
   ],
   "source": [
    "# Faço uma copia dos nomes das variáveis selecionadas para usar no dataset de test antes de aplicar o PCA\n",
    "X_featurePCA_columns = X_featurePCA.columns\n",
    "\n",
    "# Crio um data set com os valores padrões mas com apenas as variaveis selecionadas acima.\n",
    "X_trainPCA = X_df_train_Smote[[i for i in X_df_train_Smote if i in X_featurePCA]]\n",
    "\n",
    "# Passo esses dados para a função do PCA criando 4 componentes\n",
    "X_featurePCA_2 = pcaFeatures(features=X_trainPCA, n_components=4)\n",
    "X_featurePCA_2"
   ]
  },
  {
   "cell_type": "code",
   "execution_count": 27,
   "metadata": {
    "scrolled": true
   },
   "outputs": [],
   "source": [
    "# Salvo o data frame ja tratado e com as variáveis selecionadas em cada etapa.\n",
    "\n",
    "X_featureMM.to_csv('Dados/X_featureMM.csv',encoding='utf-8', index=None)\n",
    "X_featureN.to_csv('Dados/X_featureN.csv',encoding='utf-8', index=None)\n",
    "X_featureSS.to_csv('Dados/X_featureSS.csv',encoding='utf-8', index=None)\n",
    "pd.DataFrame(X_featurePCA_2).to_csv('Dados/X_featurePCA.csv',encoding='utf-8', index=None)"
   ]
  },
  {
   "cell_type": "code",
   "execution_count": 12,
   "metadata": {},
   "outputs": [],
   "source": [
    "# Carregando as os data frame salvo anteriomente \n",
    "X_featureMM = pd.read_csv('Dados/X_featureMM.csv')\n",
    "X_featureN = pd.read_csv('Dados/X_featureN.csv')\n",
    "X_featureSS = pd.read_csv('Dados/X_featureSS.csv')\n",
    "X_featurePCA = pd.read_csv('Dados/X_featurePCA.csv')"
   ]
  },
  {
   "cell_type": "markdown",
   "metadata": {},
   "source": [
    "## Análise preditiva dados treino"
   ]
  },
  {
   "cell_type": "markdown",
   "metadata": {},
   "source": [
    "### Funções auxiliares "
   ]
  },
  {
   "cell_type": "code",
   "execution_count": 13,
   "metadata": {
    "scrolled": true
   },
   "outputs": [],
   "source": [
    "def classifiersAlgorithmsTTS(X_train, Y_train, X_test, Y_test):\n",
    "    \n",
    "    # Preparando a lista de modelos\n",
    "    modelos = []\n",
    "    modelos.append(('LR', LogisticRegression()))\n",
    "    modelos.append(('NB', GaussianNB()))\n",
    "    modelos.append(('KNN', KNeighborsClassifier()))\n",
    "    modelos.append(('CART', DecisionTreeClassifier()))\n",
    "    modelos.append(('RF', RandomForestClassifier()))\n",
    "  \n",
    "    # Avaliando cada modelo em um loop\n",
    "    resultados = []\n",
    "    nomes = []\n",
    "    \n",
    "    for nome, modelo in modelos:\n",
    "        # Treino o modelo\n",
    "        modelo.fit(X_train, Y_train)\n",
    "        # Faço as Previsões de teste \n",
    "        previsao = modelo.predict(X_test)\n",
    "        # Accuracy do modelo \n",
    "        results = accuracy_score(Y_test, previsao)\n",
    "        resultados.append(results)\n",
    "        nomes.append(nome)\n",
    "        print(f'{nome}:{results:.2f}% - Accuracy \\n')\n",
    "        \n",
    "        # Avaliando Recall com o classification Report \n",
    "        print( classification_report(Y_test, previsao))\n",
    "        \n",
    "        # Matriz de confusão do modelo \n",
    "        print(pd.crosstab(Y_test, previsao, rownames=['Real'], colnames=['Previsto'], margins=True))\n",
    "        print('\\n')\n",
    "  "
   ]
  },
  {
   "cell_type": "code",
   "execution_count": 14,
   "metadata": {
    "scrolled": true
   },
   "outputs": [],
   "source": [
    "def classifiersAlgorithmsEnsembleTTS(X_train, Y_train, X_test, Y_test):\n",
    "\n",
    "    # Preparando a lista de modelos\n",
    "    modelos = []\n",
    "    # Modelo BaggingClassifier\n",
    "    modelos.append(('BC', BaggingClassifier(base_estimator=DecisionTreeClassifier(), n_estimators=100)))\n",
    "    \n",
    "    # Modelo Voting Classifier\n",
    "    # coloco todos os modelos criados em uma lista para usar no algoritmo VotingClassifier\n",
    "    estimators = []\n",
    "    estimators.append(('KNN', KNeighborsClassifier()))\n",
    "    estimators.append(('DTC', GaussianNB()))\n",
    "    estimators.append(('RF', RandomForestClassifier(n_estimators = 100, max_features = 3)))\n",
    "    estimators.append(('gboost',GradientBoostingClassifier()))\n",
    "    estimators.append(('nn', MLPClassifier()))\n",
    "    estimators.append(('NB', GaussianNB()))\n",
    "    estimators.append(('LR', LogisticRegression()))\n",
    "\n",
    "    # Crio o modelo\n",
    "    modelos.append(('VC', VotingClassifier(estimators=estimators)))\n",
    "    \n",
    "    # Modelo com o StackingClassifier\n",
    "    modelos.append(('SC',StackingClassifier(estimators=estimators)))\n",
    "\n",
    "  \n",
    "    # Avaliando cada modelo em um loop\n",
    "    resultados = []\n",
    "    nomes = []\n",
    "    \n",
    "    for nome, modelo in modelos:\n",
    "        # Treino o modelo\n",
    "        modelo.fit(X_train, Y_train)\n",
    "        # Faço as Previsões de teste \n",
    "        previsao = modelo.predict(X_test)\n",
    "        # Accuracy do modelo \n",
    "        results = accuracy_score(Y_test, previsao)\n",
    "        resultados.append(results)\n",
    "        nomes.append(nome)\n",
    "        print(f'{nome}:{results:.2f}% - Accuracy \\n')\n",
    "        \n",
    "        # Avaliando Recall com o classification Report \n",
    "        print( classification_report(Y_test, previsao))\n",
    "        \n",
    "        # Matriz de confusão do modelo \n",
    "        print(pd.crosstab(Y_test, previsao, rownames=['Real'], colnames=['Previsto'], margins=True))\n",
    "        print('\\n')"
   ]
  },
  {
   "cell_type": "markdown",
   "metadata": {},
   "source": [
    "### Variáveis selecionadas com o Min Max Scaler"
   ]
  },
  {
   "cell_type": "markdown",
   "metadata": {},
   "source": [
    "#### Algotitmos Individuais "
   ]
  },
  {
   "cell_type": "code",
   "execution_count": 20,
   "metadata": {
    "scrolled": true
   },
   "outputs": [
    {
     "name": "stdout",
     "output_type": "stream",
     "text": [
      "LR:0.76% - Accuracy \n",
      "\n",
      "              precision    recall  f1-score   support\n",
      "\n",
      "           0       0.79      0.69      0.74     24012\n",
      "           1       0.73      0.82      0.77     24176\n",
      "\n",
      "    accuracy                           0.76     48188\n",
      "   macro avg       0.76      0.76      0.75     48188\n",
      "weighted avg       0.76      0.76      0.75     48188\n",
      "\n",
      "Previsto      0      1    All\n",
      "Real                         \n",
      "0         16672   7340  24012\n",
      "1          4421  19755  24176\n",
      "All       21093  27095  48188\n",
      "\n",
      "\n",
      "NB:0.58% - Accuracy \n",
      "\n",
      "              precision    recall  f1-score   support\n",
      "\n",
      "           0       0.82      0.20      0.33     24012\n",
      "           1       0.55      0.96      0.70     24176\n",
      "\n",
      "    accuracy                           0.58     48188\n",
      "   macro avg       0.68      0.58      0.51     48188\n",
      "weighted avg       0.68      0.58      0.51     48188\n",
      "\n",
      "Previsto     0      1    All\n",
      "Real                        \n",
      "0         4915  19097  24012\n",
      "1         1063  23113  24176\n",
      "All       5978  42210  48188\n",
      "\n",
      "\n",
      "KNN:0.85% - Accuracy \n",
      "\n",
      "              precision    recall  f1-score   support\n",
      "\n",
      "           0       0.88      0.80      0.84     24012\n",
      "           1       0.82      0.90      0.85     24176\n",
      "\n",
      "    accuracy                           0.85     48188\n",
      "   macro avg       0.85      0.85      0.85     48188\n",
      "weighted avg       0.85      0.85      0.85     48188\n",
      "\n",
      "Previsto      0      1    All\n",
      "Real                         \n",
      "0         19167   4845  24012\n",
      "1          2511  21665  24176\n",
      "All       21678  26510  48188\n",
      "\n",
      "\n",
      "CART:0.90% - Accuracy \n",
      "\n",
      "              precision    recall  f1-score   support\n",
      "\n",
      "           0       0.91      0.89      0.90     24012\n",
      "           1       0.89      0.92      0.90     24176\n",
      "\n",
      "    accuracy                           0.90     48188\n",
      "   macro avg       0.90      0.90      0.90     48188\n",
      "weighted avg       0.90      0.90      0.90     48188\n",
      "\n",
      "Previsto      0      1    All\n",
      "Real                         \n",
      "0         21262   2750  24012\n",
      "1          1985  22191  24176\n",
      "All       23247  24941  48188\n",
      "\n",
      "\n",
      "RF:0.91% - Accuracy \n",
      "\n",
      "              precision    recall  f1-score   support\n",
      "\n",
      "           0       0.93      0.89      0.91     24012\n",
      "           1       0.89      0.93      0.91     24176\n",
      "\n",
      "    accuracy                           0.91     48188\n",
      "   macro avg       0.91      0.91      0.91     48188\n",
      "weighted avg       0.91      0.91      0.91     48188\n",
      "\n",
      "Previsto      0      1    All\n",
      "Real                         \n",
      "0         21264   2748  24012\n",
      "1          1604  22572  24176\n",
      "All       22868  25320  48188\n",
      "\n",
      "\n"
     ]
    }
   ],
   "source": [
    "# Faço a divisão dos dados treino e teste\n",
    "\n",
    "# Definindo o tamanho das amostras\n",
    "teste_size = 0.33\n",
    "\n",
    "# Divisão dos dados \n",
    "X_train, X_test, Y_train, Y_test = train_test_split(X_featureMM, Y_df_train_Smote, test_size = teste_size)\n",
    "\n",
    "# Passo os dados para a função de predição \n",
    "classifiersAlgorithmsTTS(X_train, Y_train, X_test, Y_test)"
   ]
  },
  {
   "cell_type": "markdown",
   "metadata": {},
   "source": [
    "O RandomForestClassifier teve um melhor desempenho com 91% de acuracia "
   ]
  },
  {
   "cell_type": "markdown",
   "metadata": {},
   "source": [
    "#### Algotitmos Ensemble "
   ]
  },
  {
   "cell_type": "code",
   "execution_count": 21,
   "metadata": {
    "scrolled": true
   },
   "outputs": [
    {
     "name": "stdout",
     "output_type": "stream",
     "text": [
      "BC:0.92% - Accuracy \n",
      "\n",
      "              precision    recall  f1-score   support\n",
      "\n",
      "           0       0.93      0.91      0.92     24006\n",
      "           1       0.91      0.94      0.92     24182\n",
      "\n",
      "    accuracy                           0.92     48188\n",
      "   macro avg       0.92      0.92      0.92     48188\n",
      "weighted avg       0.92      0.92      0.92     48188\n",
      "\n",
      "Previsto      0      1    All\n",
      "Real                         \n",
      "0         21843   2163  24006\n",
      "1          1563  22619  24182\n",
      "All       23406  24782  48188\n",
      "\n",
      "\n",
      "VC:0.91% - Accuracy \n",
      "\n",
      "              precision    recall  f1-score   support\n",
      "\n",
      "           0       0.93      0.90      0.91     24006\n",
      "           1       0.90      0.93      0.92     24182\n",
      "\n",
      "    accuracy                           0.91     48188\n",
      "   macro avg       0.91      0.91      0.91     48188\n",
      "weighted avg       0.91      0.91      0.91     48188\n",
      "\n",
      "Previsto      0      1    All\n",
      "Real                         \n",
      "0         21509   2497  24006\n",
      "1          1646  22536  24182\n",
      "All       23155  25033  48188\n",
      "\n",
      "\n",
      "SC:0.91% - Accuracy \n",
      "\n",
      "              precision    recall  f1-score   support\n",
      "\n",
      "           0       0.93      0.90      0.91     24006\n",
      "           1       0.90      0.93      0.92     24182\n",
      "\n",
      "    accuracy                           0.91     48188\n",
      "   macro avg       0.92      0.91      0.91     48188\n",
      "weighted avg       0.92      0.91      0.91     48188\n",
      "\n",
      "Previsto      0      1    All\n",
      "Real                         \n",
      "0         21559   2447  24006\n",
      "1          1664  22518  24182\n",
      "All       23223  24965  48188\n",
      "\n",
      "\n"
     ]
    }
   ],
   "source": [
    "# Faço a divisão dos dados treino e teste\n",
    "\n",
    "# Definindo o tamanho das amostras\n",
    "teste_size = 0.33\n",
    "\n",
    "# Divisão dos dados \n",
    "X_train, X_test, Y_train, Y_test = train_test_split(X_featureMM, Y_df_train_Smote, test_size = teste_size)\n",
    "\n",
    "# Passo os dados para a função de predição \n",
    "classifiersAlgorithmsEnsembleTTS(X_train, Y_train, X_test, Y_test)"
   ]
  },
  {
   "cell_type": "markdown",
   "metadata": {},
   "source": [
    "O BaggingClassifier teve um melhor desempenho com 92% de acuracia "
   ]
  },
  {
   "cell_type": "markdown",
   "metadata": {},
   "source": [
    "### Variáveis selecionadas com o Normalizer"
   ]
  },
  {
   "cell_type": "markdown",
   "metadata": {},
   "source": [
    "#### Algotitmos Individuais "
   ]
  },
  {
   "cell_type": "code",
   "execution_count": 22,
   "metadata": {
    "scrolled": true
   },
   "outputs": [
    {
     "name": "stdout",
     "output_type": "stream",
     "text": [
      "LR:0.56% - Accuracy \n",
      "\n",
      "              precision    recall  f1-score   support\n",
      "\n",
      "           0       0.79      0.17      0.28     24127\n",
      "           1       0.53      0.95      0.68     24061\n",
      "\n",
      "    accuracy                           0.56     48188\n",
      "   macro avg       0.66      0.56      0.48     48188\n",
      "weighted avg       0.66      0.56      0.48     48188\n",
      "\n",
      "Previsto     0      1    All\n",
      "Real                        \n",
      "0         4020  20107  24127\n",
      "1         1089  22972  24061\n",
      "All       5109  43079  48188\n",
      "\n",
      "\n",
      "NB:0.71% - Accuracy \n",
      "\n",
      "              precision    recall  f1-score   support\n",
      "\n",
      "           0       0.74      0.64      0.69     24127\n",
      "           1       0.68      0.77      0.72     24061\n",
      "\n",
      "    accuracy                           0.71     48188\n",
      "   macro avg       0.71      0.71      0.70     48188\n",
      "weighted avg       0.71      0.71      0.70     48188\n",
      "\n",
      "Previsto      0      1    All\n",
      "Real                         \n",
      "0         15496   8631  24127\n",
      "1          5550  18511  24061\n",
      "All       21046  27142  48188\n",
      "\n",
      "\n",
      "KNN:0.83% - Accuracy \n",
      "\n",
      "              precision    recall  f1-score   support\n",
      "\n",
      "           0       0.83      0.82      0.83     24127\n",
      "           1       0.82      0.84      0.83     24061\n",
      "\n",
      "    accuracy                           0.83     48188\n",
      "   macro avg       0.83      0.83      0.83     48188\n",
      "weighted avg       0.83      0.83      0.83     48188\n",
      "\n",
      "Previsto      0      1    All\n",
      "Real                         \n",
      "0         19849   4278  24127\n",
      "1          3940  20121  24061\n",
      "All       23789  24399  48188\n",
      "\n",
      "\n",
      "CART:0.89% - Accuracy \n",
      "\n",
      "              precision    recall  f1-score   support\n",
      "\n",
      "           0       0.91      0.88      0.89     24127\n",
      "           1       0.88      0.91      0.89     24061\n",
      "\n",
      "    accuracy                           0.89     48188\n",
      "   macro avg       0.89      0.89      0.89     48188\n",
      "weighted avg       0.89      0.89      0.89     48188\n",
      "\n",
      "Previsto      0      1    All\n",
      "Real                         \n",
      "0         21175   2952  24127\n",
      "1          2186  21875  24061\n",
      "All       23361  24827  48188\n",
      "\n",
      "\n",
      "RF:0.92% - Accuracy \n",
      "\n",
      "              precision    recall  f1-score   support\n",
      "\n",
      "           0       0.93      0.90      0.91     24127\n",
      "           1       0.90      0.93      0.92     24061\n",
      "\n",
      "    accuracy                           0.92     48188\n",
      "   macro avg       0.92      0.92      0.92     48188\n",
      "weighted avg       0.92      0.92      0.92     48188\n",
      "\n",
      "Previsto      0      1    All\n",
      "Real                         \n",
      "0         21711   2416  24127\n",
      "1          1671  22390  24061\n",
      "All       23382  24806  48188\n",
      "\n",
      "\n"
     ]
    }
   ],
   "source": [
    "# Faço a divisão dos dados treino e teste\n",
    "\n",
    "# Definindo o tamanho das amostras\n",
    "teste_size = 0.33\n",
    "\n",
    "# Divisão dos dados \n",
    "X_train, X_test, Y_train, Y_test = train_test_split(X_featureN, Y_df_train_Smote, test_size = teste_size)\n",
    "\n",
    "# Passo os dados para a função de predição \n",
    "classifiersAlgorithmsTTS(X_train, Y_train, X_test, Y_test)"
   ]
  },
  {
   "cell_type": "markdown",
   "metadata": {},
   "source": [
    "O RandomForestClassifier teve um melhor desempenho com 91% de acuracia "
   ]
  },
  {
   "cell_type": "markdown",
   "metadata": {},
   "source": [
    "#### Algotitmos Ensemble "
   ]
  },
  {
   "cell_type": "code",
   "execution_count": 15,
   "metadata": {
    "scrolled": true
   },
   "outputs": [
    {
     "name": "stdout",
     "output_type": "stream",
     "text": [
      "BC:0.92% - Accuracy \n",
      "\n",
      "              precision    recall  f1-score   support\n",
      "\n",
      "           0       0.93      0.90      0.91     24183\n",
      "           1       0.90      0.93      0.92     24005\n",
      "\n",
      "    accuracy                           0.92     48188\n",
      "   macro avg       0.92      0.92      0.92     48188\n",
      "weighted avg       0.92      0.92      0.92     48188\n",
      "\n",
      "Previsto      0      1    All\n",
      "Real                         \n",
      "0         21811   2372  24183\n",
      "1          1709  22296  24005\n",
      "All       23520  24668  48188\n",
      "\n",
      "\n",
      "VC:0.92% - Accuracy \n",
      "\n",
      "              precision    recall  f1-score   support\n",
      "\n",
      "           0       0.93      0.91      0.92     24183\n",
      "           1       0.91      0.93      0.92     24005\n",
      "\n",
      "    accuracy                           0.92     48188\n",
      "   macro avg       0.92      0.92      0.92     48188\n",
      "weighted avg       0.92      0.92      0.92     48188\n",
      "\n",
      "Previsto      0      1    All\n",
      "Real                         \n",
      "0         21964   2219  24183\n",
      "1          1682  22323  24005\n",
      "All       23646  24542  48188\n",
      "\n",
      "\n",
      "SC:0.92% - Accuracy \n",
      "\n",
      "              precision    recall  f1-score   support\n",
      "\n",
      "           0       0.93      0.91      0.92     24183\n",
      "           1       0.91      0.93      0.92     24005\n",
      "\n",
      "    accuracy                           0.92     48188\n",
      "   macro avg       0.92      0.92      0.92     48188\n",
      "weighted avg       0.92      0.92      0.92     48188\n",
      "\n",
      "Previsto      0      1    All\n",
      "Real                         \n",
      "0         21992   2191  24183\n",
      "1          1747  22258  24005\n",
      "All       23739  24449  48188\n",
      "\n",
      "\n"
     ]
    }
   ],
   "source": [
    "# Faço a divisão dos dados treino e teste\n",
    "\n",
    "# Definindo o tamanho das amostras\n",
    "teste_size = 0.33\n",
    "\n",
    "# Divisão dos dados \n",
    "X_train, X_test, Y_train, Y_test = train_test_split(X_featureN, Y_df_train_Smote, test_size = teste_size)\n",
    "\n",
    "# Passo os dados para a função de predição \n",
    "classifiersAlgorithmsEnsembleTTS(X_train, Y_train, X_test, Y_test)"
   ]
  },
  {
   "cell_type": "markdown",
   "metadata": {},
   "source": [
    "Todos os 3 tiveram uma acuracia de 92%. "
   ]
  },
  {
   "cell_type": "markdown",
   "metadata": {},
   "source": [
    "### Variáveis selecionadas com o StandardScaler\n"
   ]
  },
  {
   "cell_type": "markdown",
   "metadata": {},
   "source": [
    "#### Algotitmos Individuais "
   ]
  },
  {
   "cell_type": "code",
   "execution_count": 16,
   "metadata": {
    "scrolled": true
   },
   "outputs": [
    {
     "name": "stdout",
     "output_type": "stream",
     "text": [
      "LR:0.77% - Accuracy \n",
      "\n",
      "              precision    recall  f1-score   support\n",
      "\n",
      "           0       0.80      0.73      0.76     24138\n",
      "           1       0.75      0.81      0.78     24050\n",
      "\n",
      "    accuracy                           0.77     48188\n",
      "   macro avg       0.78      0.77      0.77     48188\n",
      "weighted avg       0.78      0.77      0.77     48188\n",
      "\n",
      "Previsto      0      1    All\n",
      "Real                         \n",
      "0         17674   6464  24138\n",
      "1          4462  19588  24050\n",
      "All       22136  26052  48188\n",
      "\n",
      "\n",
      "NB:0.75% - Accuracy \n",
      "\n",
      "              precision    recall  f1-score   support\n",
      "\n",
      "           0       0.81      0.67      0.73     24138\n",
      "           1       0.72      0.84      0.77     24050\n",
      "\n",
      "    accuracy                           0.75     48188\n",
      "   macro avg       0.76      0.75      0.75     48188\n",
      "weighted avg       0.76      0.75      0.75     48188\n",
      "\n",
      "Previsto      0      1    All\n",
      "Real                         \n",
      "0         16081   8057  24138\n",
      "1          3758  20292  24050\n",
      "All       19839  28349  48188\n",
      "\n",
      "\n",
      "KNN:0.87% - Accuracy \n",
      "\n",
      "              precision    recall  f1-score   support\n",
      "\n",
      "           0       0.90      0.83      0.86     24138\n",
      "           1       0.84      0.90      0.87     24050\n",
      "\n",
      "    accuracy                           0.87     48188\n",
      "   macro avg       0.87      0.87      0.87     48188\n",
      "weighted avg       0.87      0.87      0.87     48188\n",
      "\n",
      "Previsto      0      1    All\n",
      "Real                         \n",
      "0         20116   4022  24138\n",
      "1          2322  21728  24050\n",
      "All       22438  25750  48188\n",
      "\n",
      "\n",
      "CART:0.91% - Accuracy \n",
      "\n",
      "              precision    recall  f1-score   support\n",
      "\n",
      "           0       0.92      0.89      0.91     24138\n",
      "           1       0.90      0.92      0.91     24050\n",
      "\n",
      "    accuracy                           0.91     48188\n",
      "   macro avg       0.91      0.91      0.91     48188\n",
      "weighted avg       0.91      0.91      0.91     48188\n",
      "\n",
      "Previsto      0      1    All\n",
      "Real                         \n",
      "0         21561   2577  24138\n",
      "1          1824  22226  24050\n",
      "All       23385  24803  48188\n",
      "\n",
      "\n",
      "RF:0.92% - Accuracy \n",
      "\n",
      "              precision    recall  f1-score   support\n",
      "\n",
      "           0       0.93      0.91      0.92     24138\n",
      "           1       0.91      0.93      0.92     24050\n",
      "\n",
      "    accuracy                           0.92     48188\n",
      "   macro avg       0.92      0.92      0.92     48188\n",
      "weighted avg       0.92      0.92      0.92     48188\n",
      "\n",
      "Previsto      0      1    All\n",
      "Real                         \n",
      "0         21936   2202  24138\n",
      "1          1664  22386  24050\n",
      "All       23600  24588  48188\n",
      "\n",
      "\n"
     ]
    }
   ],
   "source": [
    "# Faço a divisão dos dados treino e teste\n",
    "\n",
    "# Definindo o tamanho das amostras\n",
    "teste_size = 0.33\n",
    "\n",
    "# Divisão dos dados \n",
    "X_train, X_test, Y_train, Y_test = train_test_split(X_featureSS, Y_df_train_Smote, test_size = teste_size)\n",
    "\n",
    "# Passo os dados para a função de predição \n",
    "classifiersAlgorithmsTTS(X_train, Y_train, X_test, Y_test)"
   ]
  },
  {
   "cell_type": "markdown",
   "metadata": {},
   "source": [
    "O RandomForestClassifier teve um melhor desempenho com 92% de acuracia "
   ]
  },
  {
   "cell_type": "markdown",
   "metadata": {},
   "source": [
    "#### Algotitmos Ensemble "
   ]
  },
  {
   "cell_type": "code",
   "execution_count": 17,
   "metadata": {
    "scrolled": true
   },
   "outputs": [
    {
     "name": "stdout",
     "output_type": "stream",
     "text": [
      "BC:0.93% - Accuracy \n",
      "\n",
      "              precision    recall  f1-score   support\n",
      "\n",
      "           0       0.94      0.91      0.92     24071\n",
      "           1       0.92      0.94      0.93     24117\n",
      "\n",
      "    accuracy                           0.93     48188\n",
      "   macro avg       0.93      0.93      0.93     48188\n",
      "weighted avg       0.93      0.93      0.93     48188\n",
      "\n",
      "Previsto      0      1    All\n",
      "Real                         \n",
      "0         21986   2085  24071\n",
      "1          1482  22635  24117\n",
      "All       23468  24720  48188\n",
      "\n",
      "\n",
      "VC:0.92% - Accuracy \n",
      "\n",
      "              precision    recall  f1-score   support\n",
      "\n",
      "           0       0.92      0.91      0.92     24071\n",
      "           1       0.91      0.92      0.92     24117\n",
      "\n",
      "    accuracy                           0.92     48188\n",
      "   macro avg       0.92      0.92      0.92     48188\n",
      "weighted avg       0.92      0.92      0.92     48188\n",
      "\n",
      "Previsto      0      1    All\n",
      "Real                         \n",
      "0         21991   2080  24071\n",
      "1          1817  22300  24117\n",
      "All       23808  24380  48188\n",
      "\n",
      "\n",
      "SC:0.92% - Accuracy \n",
      "\n",
      "              precision    recall  f1-score   support\n",
      "\n",
      "           0       0.92      0.91      0.92     24071\n",
      "           1       0.91      0.93      0.92     24117\n",
      "\n",
      "    accuracy                           0.92     48188\n",
      "   macro avg       0.92      0.92      0.92     48188\n",
      "weighted avg       0.92      0.92      0.92     48188\n",
      "\n",
      "Previsto      0      1    All\n",
      "Real                         \n",
      "0         21966   2105  24071\n",
      "1          1795  22322  24117\n",
      "All       23761  24427  48188\n",
      "\n",
      "\n"
     ]
    }
   ],
   "source": [
    "# Faço a divisão dos dados treino e teste\n",
    "\n",
    "# Definindo o tamanho das amostras\n",
    "teste_size = 0.33\n",
    "\n",
    "# Divisão dos dados \n",
    "X_train, X_test, Y_train, Y_test = train_test_split(X_featureSS, Y_df_train_Smote, test_size = teste_size)\n",
    "\n",
    "# Passo os dados para a função de predição \n",
    "classifiersAlgorithmsEnsembleTTS(X_train, Y_train, X_test, Y_test)"
   ]
  },
  {
   "cell_type": "markdown",
   "metadata": {},
   "source": [
    "O BaggingClassifier teve um melhor desempenho com 93% de acuracia "
   ]
  },
  {
   "cell_type": "markdown",
   "metadata": {},
   "source": [
    "### Variáveis selecionadas com o PCA"
   ]
  },
  {
   "cell_type": "markdown",
   "metadata": {},
   "source": [
    "#### Algotitmos Individuais "
   ]
  },
  {
   "cell_type": "code",
   "execution_count": 29,
   "metadata": {
    "scrolled": true
   },
   "outputs": [
    {
     "name": "stdout",
     "output_type": "stream",
     "text": [
      "LR:0.74% - Accuracy \n",
      "\n",
      "              precision    recall  f1-score   support\n",
      "\n",
      "           0       0.77      0.70      0.73     24101\n",
      "           1       0.73      0.79      0.76     24087\n",
      "\n",
      "    accuracy                           0.74     48188\n",
      "   macro avg       0.75      0.74      0.74     48188\n",
      "weighted avg       0.75      0.74      0.74     48188\n",
      "\n",
      "Previsto      0      1    All\n",
      "Real                         \n",
      "0         16910   7191  24101\n",
      "1          5102  18985  24087\n",
      "All       22012  26176  48188\n",
      "\n",
      "\n",
      "NB:0.75% - Accuracy \n",
      "\n",
      "              precision    recall  f1-score   support\n",
      "\n",
      "           0       0.75      0.74      0.74     24101\n",
      "           1       0.74      0.75      0.75     24087\n",
      "\n",
      "    accuracy                           0.75     48188\n",
      "   macro avg       0.75      0.75      0.75     48188\n",
      "weighted avg       0.75      0.75      0.75     48188\n",
      "\n",
      "Previsto      0      1    All\n",
      "Real                         \n",
      "0         17803   6298  24101\n",
      "1          5944  18143  24087\n",
      "All       23747  24441  48188\n",
      "\n",
      "\n",
      "KNN:0.87% - Accuracy \n",
      "\n",
      "              precision    recall  f1-score   support\n",
      "\n",
      "           0       0.89      0.85      0.87     24101\n",
      "           1       0.86      0.89      0.88     24087\n",
      "\n",
      "    accuracy                           0.87     48188\n",
      "   macro avg       0.87      0.87      0.87     48188\n",
      "weighted avg       0.87      0.87      0.87     48188\n",
      "\n",
      "Previsto      0      1    All\n",
      "Real                         \n",
      "0         20576   3525  24101\n",
      "1          2607  21480  24087\n",
      "All       23183  25005  48188\n",
      "\n",
      "\n",
      "CART:0.87% - Accuracy \n",
      "\n",
      "              precision    recall  f1-score   support\n",
      "\n",
      "           0       0.88      0.86      0.87     24101\n",
      "           1       0.86      0.88      0.87     24087\n",
      "\n",
      "    accuracy                           0.87     48188\n",
      "   macro avg       0.87      0.87      0.87     48188\n",
      "weighted avg       0.87      0.87      0.87     48188\n",
      "\n",
      "Previsto      0      1    All\n",
      "Real                         \n",
      "0         20760   3341  24101\n",
      "1          2872  21215  24087\n",
      "All       23632  24556  48188\n",
      "\n",
      "\n",
      "RF:0.89% - Accuracy \n",
      "\n",
      "              precision    recall  f1-score   support\n",
      "\n",
      "           0       0.89      0.88      0.89     24101\n",
      "           1       0.88      0.89      0.89     24087\n",
      "\n",
      "    accuracy                           0.89     48188\n",
      "   macro avg       0.89      0.89      0.89     48188\n",
      "weighted avg       0.89      0.89      0.89     48188\n",
      "\n",
      "Previsto      0      1    All\n",
      "Real                         \n",
      "0         21243   2858  24101\n",
      "1          2659  21428  24087\n",
      "All       23902  24286  48188\n",
      "\n",
      "\n"
     ]
    }
   ],
   "source": [
    "# Faço a divisão dos dados treino e teste\n",
    "\n",
    "# Definindo o tamanho das amostras\n",
    "teste_size = 0.33\n",
    "\n",
    "# Divisão dos dados \n",
    "X_train, X_test, Y_train, Y_test = train_test_split(X_featurePCA, Y_df_train_Smote, test_size = teste_size)\n",
    "\n",
    "# Passo os dados para a função de predição \n",
    "classifiersAlgorithmsTTS(X_train, Y_train, X_test, Y_test)"
   ]
  },
  {
   "cell_type": "markdown",
   "metadata": {},
   "source": [
    "O RandomForestClassifier teve um melhor desempenho com 89% de acuracia "
   ]
  },
  {
   "cell_type": "markdown",
   "metadata": {},
   "source": [
    "#### Algotitmos Ensemble "
   ]
  },
  {
   "cell_type": "code",
   "execution_count": 30,
   "metadata": {
    "scrolled": true
   },
   "outputs": [
    {
     "name": "stdout",
     "output_type": "stream",
     "text": [
      "BC:0.88% - Accuracy \n",
      "\n",
      "              precision    recall  f1-score   support\n",
      "\n",
      "           0       0.89      0.88      0.88     24006\n",
      "           1       0.88      0.89      0.88     24182\n",
      "\n",
      "    accuracy                           0.88     48188\n",
      "   macro avg       0.88      0.88      0.88     48188\n",
      "weighted avg       0.88      0.88      0.88     48188\n",
      "\n",
      "Previsto      0      1    All\n",
      "Real                         \n",
      "0         21108   2898  24006\n",
      "1          2733  21449  24182\n",
      "All       23841  24347  48188\n",
      "\n",
      "\n",
      "VC:0.89% - Accuracy \n",
      "\n",
      "              precision    recall  f1-score   support\n",
      "\n",
      "           0       0.89      0.88      0.88     24006\n",
      "           1       0.88      0.89      0.89     24182\n",
      "\n",
      "    accuracy                           0.89     48188\n",
      "   macro avg       0.89      0.89      0.89     48188\n",
      "weighted avg       0.89      0.89      0.89     48188\n",
      "\n",
      "Previsto      0      1    All\n",
      "Real                         \n",
      "0         21166   2840  24006\n",
      "1          2689  21493  24182\n",
      "All       23855  24333  48188\n",
      "\n",
      "\n",
      "SC:0.88% - Accuracy \n",
      "\n",
      "              precision    recall  f1-score   support\n",
      "\n",
      "           0       0.89      0.88      0.88     24006\n",
      "           1       0.88      0.89      0.89     24182\n",
      "\n",
      "    accuracy                           0.88     48188\n",
      "   macro avg       0.88      0.88      0.88     48188\n",
      "weighted avg       0.88      0.88      0.88     48188\n",
      "\n",
      "Previsto      0      1    All\n",
      "Real                         \n",
      "0         21134   2872  24006\n",
      "1          2697  21485  24182\n",
      "All       23831  24357  48188\n",
      "\n",
      "\n"
     ]
    }
   ],
   "source": [
    "# Faço a divisão dos dados treino e teste\n",
    "\n",
    "# Definindo o tamanho das amostras\n",
    "teste_size = 0.33\n",
    "\n",
    "# Divisão dos dados \n",
    "X_train, X_test, Y_train, Y_test = train_test_split(X_featurePCA, Y_df_train_Smote, test_size = teste_size)\n",
    "\n",
    "# Passo os dados para a função de predição \n",
    "classifiersAlgorithmsEnsembleTTS(X_train, Y_train, X_test, Y_test)"
   ]
  },
  {
   "cell_type": "markdown",
   "metadata": {},
   "source": [
    "Voting Classifier teve um nelhor desempenho com 89% de acuracia"
   ]
  },
  {
   "cell_type": "markdown",
   "metadata": {
    "scrolled": true
   },
   "source": [
    "## Analise preditiva dados teste"
   ]
  },
  {
   "cell_type": "markdown",
   "metadata": {
    "scrolled": true
   },
   "source": [
    "Utilizarei o melhor algortimo em cada escala para a analise preditiva nos dados de teste. \n",
    "\n"
   ]
  },
  {
   "cell_type": "markdown",
   "metadata": {},
   "source": [
    "### Preparação dos dados de teste para receber o algortimo\n"
   ]
  },
  {
   "cell_type": "code",
   "execution_count": 52,
   "metadata": {},
   "outputs": [],
   "source": [
    "# Primeiro faço um filtro criando um data set novo com apenas as variáveis selecionadas para cada scala.\n",
    "df_testSS = df_test[[i for i in df_test if i in X_featureSS.columns]]\n",
    "df_testMM = df_test[[i for i in df_test if i in X_featureMM.columns]]\n",
    "df_testPCA = df_test[[i for i in df_test if i in X_featurePCA_columns]]\n",
    "\n",
    "# Aplico a escala correta para cada um.\n",
    "df_testSS =dataNormalization(features = df_testSS , transform = 'SS')\n",
    "df_testMM =dataNormalization(features = df_testMM , transform = 'MM')\n",
    "\n",
    "# Faço agora a do PCA\n",
    "# Passo esses dados para a função do PCA criando 4 componentes\n",
    "df_testPCA = pcaFeatures(features=df_testPCA, n_components=4)\n",
    "\n"
   ]
  },
  {
   "cell_type": "markdown",
   "metadata": {},
   "source": [
    "### Aplico o algoritmo selecionado para cada dataset."
   ]
  },
  {
   "cell_type": "markdown",
   "metadata": {},
   "source": [
    "#### BaggingClassifier com o Standard Scaler"
   ]
  },
  {
   "cell_type": "code",
   "execution_count": 69,
   "metadata": {},
   "outputs": [
    {
     "data": {
      "text/plain": [
       "TARGET_BC\n",
       "0    53038\n",
       "1    22780\n",
       "dtype: int64"
      ]
     },
     "execution_count": 69,
     "metadata": {},
     "output_type": "execute_result"
    }
   ],
   "source": [
    "# Cração do modelo \n",
    "modelo = BaggingClassifier(base_estimator=DecisionTreeClassifier(), n_estimators=100)\n",
    "\n",
    "# Treinamento do modelo com os dados treino.\n",
    "modelo.fit(X_featureSS, Y_df_train_Smote)\n",
    "\n",
    "# Previsões nos dados teste\n",
    "previsao = modelo.predict(df_testSS)\n",
    "\n",
    "# Coloco as previsões junto com o dataframe teste.\n",
    "df_test['TARGET_BC'] = previsao\n",
    "\n",
    "# Imprimo a quantidade para cada previsão.\n",
    "df_test.groupby('TARGET_BC').size()\n"
   ]
  },
  {
   "cell_type": "markdown",
   "metadata": {},
   "source": [
    "De 75.818 resultados, o modelo com o BaggingClassifier previu que 53038 clientes estão satisfeito e possivelmente continuarão com o serviço e 22780 estariam insatisfeitos e possivelmente podem cancelar o serviço."
   ]
  },
  {
   "cell_type": "markdown",
   "metadata": {},
   "source": [
    "#### StackingClassifier com o Min Max Scaler\n"
   ]
  },
  {
   "cell_type": "code",
   "execution_count": 71,
   "metadata": {},
   "outputs": [
    {
     "data": {
      "text/plain": [
       "TARGET_SC\n",
       "0    44664\n",
       "1    31154\n",
       "dtype: int64"
      ]
     },
     "execution_count": 71,
     "metadata": {},
     "output_type": "execute_result"
    }
   ],
   "source": [
    "# Coloco todos os modelos criados em uma lista para usar no algoritmo \n",
    "estimators = []\n",
    "estimators.append(('KNN', KNeighborsClassifier()))\n",
    "estimators.append(('DTC', GaussianNB()))\n",
    "estimators.append(('RF', RandomForestClassifier(n_estimators = 100, max_features = 3)))\n",
    "estimators.append(('gboost',GradientBoostingClassifier()))\n",
    "estimators.append(('nn', MLPClassifier()))\n",
    "estimators.append(('NB', GaussianNB()))\n",
    "estimators.append(('LR', LogisticRegression()))\n",
    "\n",
    "# Cração do modelo \n",
    "modelo = StackingClassifier(estimators=estimators)\n",
    "\n",
    "# Treinamento do modelo com os dados treino.\n",
    "modelo.fit(X_featureMM, Y_df_train_Smote)\n",
    "\n",
    "# Previsões nos dados teste\n",
    "previsao = modelo.predict(df_testMM)\n",
    "\n",
    "# Coloco as previsões junto com o dataframe teste.\n",
    "df_test['TARGET_SC'] = previsao\n",
    "\n",
    "# Imprimo a quantidade para cada previsão.\n",
    "df_test.groupby('TARGET_SC').size()\n"
   ]
  },
  {
   "cell_type": "markdown",
   "metadata": {},
   "source": [
    "De 75.818 resultados, o modelo com o StackingClassifier previu que 44664 clientes estão satisfeito e possivelmente continuarão com o serviço e 31154 estariam insatisfeitos e possivelmente podem cancelar o serviço."
   ]
  },
  {
   "cell_type": "markdown",
   "metadata": {},
   "source": [
    "#### Voting Classifier com o PCA"
   ]
  },
  {
   "cell_type": "code",
   "execution_count": 77,
   "metadata": {},
   "outputs": [
    {
     "data": {
      "text/plain": [
       "TARGET_VC\n",
       "0    51672\n",
       "1    24146\n",
       "dtype: int64"
      ]
     },
     "execution_count": 77,
     "metadata": {},
     "output_type": "execute_result"
    }
   ],
   "source": [
    "# Modelo Voting Classifier\n",
    "# Coloco todos os modelos criados em uma lista para usar no algoritmo VotingClassifier\n",
    "estimators = []\n",
    "estimators.append(('KNN', KNeighborsClassifier()))\n",
    "estimators.append(('DTC', GaussianNB()))\n",
    "estimators.append(('RF', RandomForestClassifier(n_estimators = 100, max_features = 3)))\n",
    "estimators.append(('gboost',GradientBoostingClassifier()))\n",
    "estimators.append(('nn', MLPClassifier()))\n",
    "estimators.append(('NB', GaussianNB()))\n",
    "estimators.append(('LR', LogisticRegression()))\n",
    "    \n",
    "# Cração do modelo \n",
    "modelo = VotingClassifier(estimators=estimators)\n",
    "\n",
    "# Treinamento do modelo com os dados treino.\n",
    "modelo.fit(X_featurePCA, Y_df_train_Smote)\n",
    "\n",
    "# Previsões nos dados teste\n",
    "previsao = modelo.predict(df_testPCA)\n",
    "\n",
    "# Coloco as previsões junto com o dataframe teste.\n",
    "df_test['TARGET_VC'] = previsao\n",
    "\n",
    "# Imprimo a quantidade para cada previsão.\n",
    "df_test.groupby('TARGET_VC').size()"
   ]
  },
  {
   "cell_type": "markdown",
   "metadata": {},
   "source": [
    "De 75.818 resultados, o modelo com o VotingClassifier previu que 51672 clientes estão satisfeito e possivelmente continuarão com o serviço e 24146 estariam insatisfeitos e possivelmente podem cancelar o serviço."
   ]
  },
  {
   "cell_type": "code",
   "execution_count": null,
   "metadata": {},
   "outputs": [],
   "source": []
  }
 ],
 "metadata": {
  "kernelspec": {
   "display_name": "Python 3",
   "language": "python",
   "name": "python3"
  },
  "language_info": {
   "codemirror_mode": {
    "name": "ipython",
    "version": 3
   },
   "file_extension": ".py",
   "mimetype": "text/x-python",
   "name": "python",
   "nbconvert_exporter": "python",
   "pygments_lexer": "ipython3",
   "version": "3.7.3"
  },
  "toc": {
   "base_numbering": 1,
   "nav_menu": {},
   "number_sections": true,
   "sideBar": true,
   "skip_h1_title": false,
   "title_cell": "Table of Contents",
   "title_sidebar": "Contents",
   "toc_cell": false,
   "toc_position": {},
   "toc_section_display": true,
   "toc_window_display": false
  }
 },
 "nbformat": 4,
 "nbformat_minor": 2
}
